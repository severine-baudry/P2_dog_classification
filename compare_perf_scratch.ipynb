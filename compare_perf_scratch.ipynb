{
 "cells": [
  {
   "cell_type": "code",
   "execution_count": 1,
   "metadata": {},
   "outputs": [],
   "source": [
    "import sys\n",
    "import os \n",
    "#import import_ipynb\n",
    "import importlib\n"
   ]
  },
  {
   "cell_type": "markdown",
   "metadata": {},
   "source": [
    "<font color = 'red' size = \"12\"> WARNING !!! imports .py file (NOT .ipynb) </font>"
   ]
  },
  {
   "cell_type": "code",
   "execution_count": 2,
   "metadata": {},
   "outputs": [],
   "source": [
    "sys.path.append(\"/home/severine/MOOCS/UDACITY/DEEP_LEARNING/TP/SNIPPETS/\")\n",
    "import notebook_parsing"
   ]
  },
  {
   "cell_type": "code",
   "execution_count": 3,
   "metadata": {},
   "outputs": [
    {
     "data": {
      "text/plain": [
       "<module 'notebook_parsing' from '/home/severine/MOOCS/UDACITY/DEEP_LEARNING/TP/SNIPPETS/notebook_parsing.py'>"
      ]
     },
     "execution_count": 3,
     "metadata": {},
     "output_type": "execute_result"
    }
   ],
   "source": [
    "importlib.reload(notebook_parsing)"
   ]
  },
  {
   "cell_type": "code",
   "execution_count": 4,
   "metadata": {},
   "outputs": [
    {
     "name": "stdout",
     "output_type": "stream",
     "text": [
      "/home/severine/MOOCS/UDACITY/DEEP_LEARNING/TP/P2_dog_classification\n"
     ]
    }
   ],
   "source": [
    "cwd = os.getcwd()\n",
    "print(cwd)"
   ]
  },
  {
   "cell_type": "code",
   "execution_count": 5,
   "metadata": {},
   "outputs": [
    {
     "name": "stdout",
     "output_type": "stream",
     "text": [
      "8bff585 19/11/2020 08:53 modify metadata of NN_From_Scratch to match new file name\n",
      "\n",
      "b072e00 19/11/2020 08:45 copy of Transfer_Learning_Solution_copy.ipynb as a start point to implement a NN from scratch\n",
      "\n",
      "137c4f2 17/11/2020 14:45 add random horizontal flip; test accuracy 72%\n",
      "b092ccc 17/11/2020 11:47 use vgg transform; test accuracy 72%\n",
      "115b263 17/11/2020 10:22 normalize input with mean =0.5, std = 0.5; 72% test accuracy\n",
      "295253a 17/11/2020 08:55 suppress flower classification part\n",
      "73af0ce 16/11/2020 22:51 replace last layer by 2 linear layers + dropout;valid accuracy 60%\n",
      "80a9694 16/11/2020 16:27 30 epochs; final test accuracy 61.6%\n",
      "c3fee58 16/11/2020 15:22 add plot of loss and accuracy\n",
      "dd2fe69 16/11/2020 14:25 20 epochs; output only at end of epoch\n",
      "159a9b8 16/11/2020 13:29 training on 20 epochs; valid ~60%\n",
      "5dfbe8f 16/11/2020 10:41 validation loss and accuracy\n",
      "e562c1a 16/11/2020 10:09 compute training accuracy\n",
      "5f1678d 16/11/2020 09:33 implement model and training; training performance ok on 2 epochs\n",
      "3a967ba 16/11/2020 09:02 dataloaders and display\n",
      "2df0728 14/11/2020 14:32 Created using Colaboratory\n",
      "16cdfa1 13/11/2020 16:04 implement transfer learing; does not learn (very high init loss)\n",
      "16f7fd6 13/11/2020 10:31 test accuracy 12% batch normalization with hyperparameters; dropout 0.2\n",
      "14de542 12/11/2020 22:44 batch normalization with hyperparameters; nb epochs = 30\n",
      "9321d7e 12/11/2020 16:17 non learnable batchnormalization; poorer performances\n",
      "146533a 12/11/2020 14:48 batch normalization; valid accuracy 9.9% for minimum loss; test accuracy 9%, but 12% for last model with best valid accuracy (12%)\n",
      "43aec2d 12/11/2020 14:04 add batchnormalization in conv layers ; training not finished\n",
      "7f1e9a6 12/11/2020 13:10 does not learn; dropout 0.24\n",
      "5ad6f30 12/11/2020 10:26 5.6% valid accuracy at min valid loss; dropout 0.23\n",
      "ecac4d3 12/11/2020 09:55 7.3 % valid accuracy at min valid loss; .22 dropout\n",
      "32aab0b 12/11/2020 09:26 does not learn; dropout 0.25\n",
      "7f3a257 12/11/2020 09:12 does not learn; dropout 0.3\n",
      "a5b310e 12/11/2020 08:54 7.3% valid accuracy at min validation loss; dropout 0.2\n",
      "2fd2d1d 10/11/2020 22:57 compute train accuracy\n",
      "5d9b427 10/11/2020 17:07 max 9% valid accuracy; apply centercrop to validation also\n",
      "194930f 10/11/2020 15:54 max 6% valid accuracy; rotation 10% with center crop\n",
      "b84dde2 10/11/2020 15:14 random rotation 10%, does not learn\n",
      "2928a2a 10/11/2020 14:10 use random rotation; no learning\n",
      "08d13e3 10/11/2020 13:45 valid accuracy  12%, dropout 0.1, random horizontal flip\n",
      "83f2c47 10/11/2020 11:11 valid max 0.8 dropout 0.1\n",
      "047fc0e 10/11/2020 10:21 max valid accuracy 0.8; dropout 0.3\n",
      "10556ea 10/11/2020 09:33 add GPU memory inspection and cleaning\n",
      "5e46624 10/11/2020 09:28 fix datapath\n",
      "0d56d6b 09/11/2020 12:54 max valid accuracy 0.7, dropout 0.3\n",
      "9e9e294 09/11/2020 11:22 best valid accuracy 0.97, dropout 0.2, still overfitting\n",
      "761c8e7 09/11/2020 10:11 8% valid accuracy, overfitting\n",
      "0b51560 06/11/2020 15:32 valid 11%, test 9%\n",
      "bc3be24 03/11/2020 09:40 validation accuracy at 9%\n",
      "audio beep when training is done\n",
      "training status with tqdm\n",
      "\n",
      "431b84a 02/11/2020 14:21 cnn which fails to learn (1% accuracy)\n",
      "\n",
      "ba01d07 22/10/2020 14:39 CNN with 8% valid accuracy and 7% text accuracy\n",
      "\n",
      "5d6e480 22/10/2020 09:28 remove debug cells for image truncation\n",
      "\n",
      "d6aae04 22/10/2020 09:26 fix cuda tensors; fix pb with image file truncation\n",
      "\n",
      "211b43b 20/10/2020 15:07 implement step 1 and 3 (use of opencv face detector, and vgg object\n",
      "detection)\n",
      "\n",
      "542b44b 20/10/2020 13:53 Udacity project template\n",
      "\n",
      "Empty DataFrame\n",
      "Columns: []\n",
      "Index: []\n"
     ]
    }
   ],
   "source": [
    "all_results = notebook_parsing.all_commits_results(cwd, \"dog_app.ipynb\")\n",
    "valid_loss, commit_info = notebook_parsing.extract_metric_phase(all_results, \"VALID\", \"loss\")\n",
    "print(valid_loss)"
   ]
  },
  {
   "cell_type": "code",
   "execution_count": 6,
   "metadata": {},
   "outputs": [
    {
     "data": {
      "text/plain": [
       "[OrderedDict([('sha', '8bff58515b3649bd258ad7686b226efe51c1b220'),\n",
       "              ('date', '19/11/2020 08:53'),\n",
       "              ('msg',\n",
       "               'modify metadata of NN_From_Scratch to match new file name\\n'),\n",
       "              ('res', OrderedDict())]),\n",
       " OrderedDict([('sha', 'b072e00bbeb8218dcc5dac724879108bbc23a97b'),\n",
       "              ('date', '19/11/2020 08:45'),\n",
       "              ('msg',\n",
       "               'copy of Transfer_Learning_Solution_copy.ipynb as a start point to implement a NN from scratch\\n'),\n",
       "              ('res', OrderedDict())]),\n",
       " OrderedDict([('sha', '137c4f2945eed6dc400feb14bf43a0bcb504d692'),\n",
       "              ('date', '17/11/2020 14:45'),\n",
       "              ('msg', 'add random horizontal flip; test accuracy 72%'),\n",
       "              ('res', OrderedDict())]),\n",
       " OrderedDict([('sha', 'b092ccc46e18debb7bd78c79fa69ee69c4050c93'),\n",
       "              ('date', '17/11/2020 11:47'),\n",
       "              ('msg', 'use vgg transform; test accuracy 72%'),\n",
       "              ('res', OrderedDict())]),\n",
       " OrderedDict([('sha', '115b263ee7b330b462dce966a69df5467c90bd67'),\n",
       "              ('date', '17/11/2020 10:22'),\n",
       "              ('msg',\n",
       "               'normalize input with mean =0.5, std = 0.5; 72% test accuracy'),\n",
       "              ('res', OrderedDict())]),\n",
       " OrderedDict([('sha', '295253a79578123785096f1ec23623daf5f3c548'),\n",
       "              ('date', '17/11/2020 08:55'),\n",
       "              ('msg', 'suppress flower classification part'),\n",
       "              ('res', OrderedDict())]),\n",
       " OrderedDict([('sha', '73af0ce0c1834653df1f953a19e89e598e44caa9'),\n",
       "              ('date', '16/11/2020 22:51'),\n",
       "              ('msg',\n",
       "               'replace last layer by 2 linear layers + dropout;valid accuracy 60%'),\n",
       "              ('res', OrderedDict())]),\n",
       " OrderedDict([('sha', '80a969443ac9a8f8f7b71c5f51fce79e82bdb79f'),\n",
       "              ('date', '16/11/2020 16:27'),\n",
       "              ('msg', '30 epochs; final test accuracy 61.6%'),\n",
       "              ('res', OrderedDict())]),\n",
       " OrderedDict([('sha', 'c3fee585199cd2f2a3a5e551e54117eb19c77cac'),\n",
       "              ('date', '16/11/2020 15:22'),\n",
       "              ('msg', 'add plot of loss and accuracy'),\n",
       "              ('res', OrderedDict())]),\n",
       " OrderedDict([('sha', 'dd2fe6987f302c3251f9f5f3e30c9f5fc5f91403'),\n",
       "              ('date', '16/11/2020 14:25'),\n",
       "              ('msg', '20 epochs; output only at end of epoch'),\n",
       "              ('res', OrderedDict())]),\n",
       " OrderedDict([('sha', '159a9b8e874caf38c61cd8aed25415ce8c54835b'),\n",
       "              ('date', '16/11/2020 13:29'),\n",
       "              ('msg', 'training on 20 epochs; valid ~60%'),\n",
       "              ('res', OrderedDict())]),\n",
       " OrderedDict([('sha', '5dfbe8f65decc20e1d869b4cf265f9d6e33b1ae4'),\n",
       "              ('date', '16/11/2020 10:41'),\n",
       "              ('msg', 'validation loss and accuracy'),\n",
       "              ('res', OrderedDict())]),\n",
       " OrderedDict([('sha', 'e562c1a70cbc74dda5ff2397423eb4c5aee7fdfc'),\n",
       "              ('date', '16/11/2020 10:09'),\n",
       "              ('msg', 'compute training accuracy'),\n",
       "              ('res', OrderedDict())]),\n",
       " OrderedDict([('sha', '5f1678d746d9f80357cada691a4feb1b495955b5'),\n",
       "              ('date', '16/11/2020 09:33'),\n",
       "              ('msg',\n",
       "               'implement model and training; training performance ok on 2 epochs'),\n",
       "              ('res', OrderedDict())]),\n",
       " OrderedDict([('sha', '3a967baa66b725f00a46685a2e4b66da957db92b'),\n",
       "              ('date', '16/11/2020 09:02'),\n",
       "              ('msg', 'dataloaders and display'),\n",
       "              ('res', OrderedDict())]),\n",
       " OrderedDict([('sha', '2df0728584c85c6637501dbe3776f5967fccd758'),\n",
       "              ('date', '14/11/2020 14:32'),\n",
       "              ('msg', 'Created using Colaboratory'),\n",
       "              ('res', OrderedDict())]),\n",
       " OrderedDict([('sha', '16cdfa1f30e7e50bd2917a49ba01afe67a7a19fa'),\n",
       "              ('date', '13/11/2020 16:04'),\n",
       "              ('msg',\n",
       "               'implement transfer learing; does not learn (very high init loss)'),\n",
       "              ('res', OrderedDict())]),\n",
       " OrderedDict([('sha', '16f7fd67247329b426831fc45e2c41cad6bd694f'),\n",
       "              ('date', '13/11/2020 10:31'),\n",
       "              ('msg',\n",
       "               'test accuracy 12% batch normalization with hyperparameters; dropout 0.2'),\n",
       "              ('res', OrderedDict())]),\n",
       " OrderedDict([('sha', '14de54227fd42a311e6284405dd906f3bef4943c'),\n",
       "              ('date', '12/11/2020 22:44'),\n",
       "              ('msg',\n",
       "               'batch normalization with hyperparameters; nb epochs = 30'),\n",
       "              ('res', OrderedDict())]),\n",
       " OrderedDict([('sha', '9321d7e73ccbb7bd540ff73e8b41e88bbfd2280c'),\n",
       "              ('date', '12/11/2020 16:17'),\n",
       "              ('msg', 'non learnable batchnormalization; poorer performances'),\n",
       "              ('res', OrderedDict())]),\n",
       " OrderedDict([('sha', '146533a677329dd94b3f79a8400aee17ac67b3ff'),\n",
       "              ('date', '12/11/2020 14:48'),\n",
       "              ('msg',\n",
       "               'batch normalization; valid accuracy 9.9% for minimum loss; test accuracy 9%, but 12% for last model with best valid accuracy (12%)'),\n",
       "              ('res', OrderedDict())]),\n",
       " OrderedDict([('sha', '43aec2ddbbe789150fa9610003588bc2eb9dc812'),\n",
       "              ('date', '12/11/2020 14:04'),\n",
       "              ('msg',\n",
       "               'add batchnormalization in conv layers ; training not finished'),\n",
       "              ('res', OrderedDict())]),\n",
       " OrderedDict([('sha', '7f1e9a641f94f3313d713b5672187fda1dc989a1'),\n",
       "              ('date', '12/11/2020 13:10'),\n",
       "              ('msg', 'does not learn; dropout 0.24'),\n",
       "              ('res', OrderedDict())]),\n",
       " OrderedDict([('sha', '5ad6f30246649d8ff0008da53bdff65396706a23'),\n",
       "              ('date', '12/11/2020 10:26'),\n",
       "              ('msg', '5.6% valid accuracy at min valid loss; dropout 0.23'),\n",
       "              ('res', OrderedDict())]),\n",
       " OrderedDict([('sha', 'ecac4d304fb9838c52675a7eaca44a111d4ba8cb'),\n",
       "              ('date', '12/11/2020 09:55'),\n",
       "              ('msg', '7.3 % valid accuracy at min valid loss; .22 dropout'),\n",
       "              ('res', OrderedDict())]),\n",
       " OrderedDict([('sha', '32aab0b15096723849e79daeac0e0684e0c9607a'),\n",
       "              ('date', '12/11/2020 09:26'),\n",
       "              ('msg', 'does not learn; dropout 0.25'),\n",
       "              ('res', OrderedDict())]),\n",
       " OrderedDict([('sha', '7f3a2579f37f9db429981c5b0c82c7d1141cfa6f'),\n",
       "              ('date', '12/11/2020 09:12'),\n",
       "              ('msg', 'does not learn; dropout 0.3'),\n",
       "              ('res', OrderedDict())]),\n",
       " OrderedDict([('sha', 'a5b310e53c8bb0192a33250dbd8bee74826dc361'),\n",
       "              ('date', '12/11/2020 08:54'),\n",
       "              ('msg',\n",
       "               '7.3% valid accuracy at min validation loss; dropout 0.2'),\n",
       "              ('res', OrderedDict())]),\n",
       " OrderedDict([('sha', '2fd2d1d7aba6e31d31f2834528983527e661c6f6'),\n",
       "              ('date', '10/11/2020 22:57'),\n",
       "              ('msg', 'compute train accuracy'),\n",
       "              ('res', OrderedDict())]),\n",
       " OrderedDict([('sha', '5d9b427d063d2cf7c0f22455907e8daa333cf5b8'),\n",
       "              ('date', '10/11/2020 17:07'),\n",
       "              ('msg',\n",
       "               'max 9% valid accuracy; apply centercrop to validation also'),\n",
       "              ('res', OrderedDict())]),\n",
       " OrderedDict([('sha', '194930f8393bf8c4b27eee03f5510be981487dba'),\n",
       "              ('date', '10/11/2020 15:54'),\n",
       "              ('msg', 'max 6% valid accuracy; rotation 10% with center crop'),\n",
       "              ('res', OrderedDict())]),\n",
       " OrderedDict([('sha', 'b84dde2aa258c3af9d3d3b11cdfc108f665f7326'),\n",
       "              ('date', '10/11/2020 15:14'),\n",
       "              ('msg', 'random rotation 10%, does not learn'),\n",
       "              ('res', OrderedDict())]),\n",
       " OrderedDict([('sha', '2928a2a80c0428482de1862fb01e66c1d1eb5a64'),\n",
       "              ('date', '10/11/2020 14:10'),\n",
       "              ('msg', 'use random rotation; no learning'),\n",
       "              ('res', OrderedDict())]),\n",
       " OrderedDict([('sha', '08d13e3c84a1403c16eb071cae233609646a0a45'),\n",
       "              ('date', '10/11/2020 13:45'),\n",
       "              ('msg',\n",
       "               'valid accuracy  12%, dropout 0.1, random horizontal flip'),\n",
       "              ('res', OrderedDict())]),\n",
       " OrderedDict([('sha', '83f2c47d9bfb434fe6bda776af732677222e47ef'),\n",
       "              ('date', '10/11/2020 11:11'),\n",
       "              ('msg', 'valid max 0.8 dropout 0.1'),\n",
       "              ('res', OrderedDict())]),\n",
       " OrderedDict([('sha', '047fc0e735270e19a3601efb519d3c7ad66bdf18'),\n",
       "              ('date', '10/11/2020 10:21'),\n",
       "              ('msg', 'max valid accuracy 0.8; dropout 0.3'),\n",
       "              ('res', OrderedDict())]),\n",
       " OrderedDict([('sha', '10556eae9bc4fcfaf48e747b81980278167d0505'),\n",
       "              ('date', '10/11/2020 09:33'),\n",
       "              ('msg', 'add GPU memory inspection and cleaning'),\n",
       "              ('res', OrderedDict())]),\n",
       " OrderedDict([('sha', '5e4662498537f0c8cd59ed7275f2d394792131d2'),\n",
       "              ('date', '10/11/2020 09:28'),\n",
       "              ('msg', 'fix datapath'),\n",
       "              ('res', OrderedDict())]),\n",
       " OrderedDict([('sha', '0d56d6bd47df2a8cd788054b973e275ab7177e81'),\n",
       "              ('date', '09/11/2020 12:54'),\n",
       "              ('msg', 'max valid accuracy 0.7, dropout 0.3'),\n",
       "              ('res', OrderedDict())]),\n",
       " OrderedDict([('sha', '9e9e2944c692e0306e03dcf2f5e31f033ac68a30'),\n",
       "              ('date', '09/11/2020 11:22'),\n",
       "              ('msg',\n",
       "               'best valid accuracy 0.97, dropout 0.2, still overfitting'),\n",
       "              ('res', OrderedDict())]),\n",
       " OrderedDict([('sha', '761c8e7a65c828ae5b853d96720122fb24b8bffc'),\n",
       "              ('date', '09/11/2020 10:11'),\n",
       "              ('msg', '8% valid accuracy, overfitting'),\n",
       "              ('res', OrderedDict())]),\n",
       " OrderedDict([('sha', '0b515604fed0e599b218d82d2a02c82291998ad1'),\n",
       "              ('date', '06/11/2020 15:32'),\n",
       "              ('msg', 'valid 11%, test 9%'),\n",
       "              ('res', OrderedDict())]),\n",
       " OrderedDict([('sha', 'bc3be240b2cb9d07ae0be1157fb805f0facf0832'),\n",
       "              ('date', '03/11/2020 09:40'),\n",
       "              ('msg',\n",
       "               'validation accuracy at 9%\\naudio beep when training is done\\ntraining status with tqdm\\n'),\n",
       "              ('res', OrderedDict())]),\n",
       " OrderedDict([('sha', '431b84a4d594f6e61d3bacb49d01629d7261fbe2'),\n",
       "              ('date', '02/11/2020 14:21'),\n",
       "              ('msg', 'cnn which fails to learn (1% accuracy)\\n'),\n",
       "              ('res', OrderedDict())]),\n",
       " OrderedDict([('sha', 'ba01d07b3d8e7198096510eb9843eadbbea77975'),\n",
       "              ('date', '22/10/2020 14:39'),\n",
       "              ('msg', 'CNN with 8% valid accuracy and 7% text accuracy\\n'),\n",
       "              ('res', OrderedDict())]),\n",
       " OrderedDict([('sha', '5d6e480623faf58193b2af1cdaebf0669b2f9620'),\n",
       "              ('date', '22/10/2020 09:28'),\n",
       "              ('msg', 'remove debug cells for image truncation\\n'),\n",
       "              ('res', OrderedDict())]),\n",
       " OrderedDict([('sha', 'd6aae0428bef838f109d909fe1606042bf252c3e'),\n",
       "              ('date', '22/10/2020 09:26'),\n",
       "              ('msg', 'fix cuda tensors; fix pb with image file truncation\\n'),\n",
       "              ('res', OrderedDict())]),\n",
       " OrderedDict([('sha', '211b43bf1269570ea8c6ea4855ca8c8ef9903b66'),\n",
       "              ('date', '20/10/2020 15:07'),\n",
       "              ('msg',\n",
       "               'implement step 1 and 3 (use of opencv face detector, and vgg object\\ndetection)\\n'),\n",
       "              ('res', OrderedDict())]),\n",
       " OrderedDict([('sha', '542b44ba8067592775063707b84024e4a2f58223'),\n",
       "              ('date', '20/10/2020 13:53'),\n",
       "              ('msg', 'Udacity project template\\n'),\n",
       "              ('res', OrderedDict())])]"
      ]
     },
     "execution_count": 6,
     "metadata": {},
     "output_type": "execute_result"
    }
   ],
   "source": [
    "all_results"
   ]
  },
  {
   "cell_type": "code",
   "execution_count": 1,
   "metadata": {},
   "outputs": [],
   "source": [
    "from git import Repo"
   ]
  },
  {
   "cell_type": "code",
   "execution_count": 15,
   "metadata": {},
   "outputs": [],
   "source": [
    "repo = Repo(\"/home/severine/TEMP/P2_dog_classification\")\n",
    "head = repo.head.reference\n"
   ]
  },
  {
   "cell_type": "code",
   "execution_count": 18,
   "metadata": {},
   "outputs": [
    {
     "data": {
      "text/plain": [
       "'71f80e5ebbfc6cb102978d093f919aaf1a41754c'"
      ]
     },
     "execution_count": 18,
     "metadata": {},
     "output_type": "execute_result"
    }
   ],
   "source": [
    "tree = repo.tree(\"31859999244c5e9622878389e00fd43365bb1535\")\n",
    "tree.hexsha\n"
   ]
  },
  {
   "cell_type": "code",
   "execution_count": 12,
   "metadata": {},
   "outputs": [
    {
     "data": {
      "text/plain": [
       "'/home/severine/MOOCS/UDACITY/DEEP_LEARNING/TP/P2_dog_classification'"
      ]
     },
     "execution_count": 12,
     "metadata": {},
     "output_type": "execute_result"
    }
   ],
   "source": [
    "%pwd"
   ]
  },
  {
   "cell_type": "code",
   "execution_count": 20,
   "metadata": {},
   "outputs": [],
   "source": [
    "comt = repo.commit(\"31859999244c5e9622878389e00fd43365bb1535\")"
   ]
  },
  {
   "cell_type": "code",
   "execution_count": 21,
   "metadata": {},
   "outputs": [
    {
     "data": {
      "text/plain": [
       "'fix bugs in train function;'"
      ]
     },
     "execution_count": 21,
     "metadata": {},
     "output_type": "execute_result"
    }
   ],
   "source": [
    "comt.message"
   ]
  },
  {
   "cell_type": "code",
   "execution_count": 26,
   "metadata": {},
   "outputs": [],
   "source": [
    "branch_val9 = repo.heads[\"Val_9\"]"
   ]
  },
  {
   "cell_type": "code",
   "execution_count": 29,
   "metadata": {},
   "outputs": [
    {
     "data": {
      "text/plain": [
       "'4a1fa6667dfd6e2c987d4b43ec9dfeec173e7f17'"
      ]
     },
     "execution_count": 29,
     "metadata": {},
     "output_type": "execute_result"
    }
   ],
   "source": [
    "branch_val9.commit.hexsha"
   ]
  },
  {
   "cell_type": "code",
   "execution_count": 30,
   "metadata": {},
   "outputs": [
    {
     "data": {
      "text/plain": [
       "'c124010b7354623ce7939a3bec484ac1d570977e'"
      ]
     },
     "execution_count": 30,
     "metadata": {},
     "output_type": "execute_result"
    }
   ],
   "source": [
    "branch_me = repo.head\n",
    "branch_me.commit.hexsha"
   ]
  },
  {
   "cell_type": "code",
   "execution_count": 39,
   "metadata": {},
   "outputs": [
    {
     "data": {
      "text/plain": [
       "<git.Commit \"bc3be240b2cb9d07ae0be1157fb805f0facf0832\">"
      ]
     },
     "execution_count": 39,
     "metadata": {},
     "output_type": "execute_result"
    }
   ],
   "source": [
    "repo.commit(\"Val_9~1\")"
   ]
  },
  {
   "cell_type": "code",
   "execution_count": null,
   "metadata": {},
   "outputs": [],
   "source": []
  }
 ],
 "metadata": {
  "kernelspec": {
   "display_name": "Python 3",
   "language": "python",
   "name": "python3"
  },
  "language_info": {
   "codemirror_mode": {
    "name": "ipython",
    "version": 3
   },
   "file_extension": ".py",
   "mimetype": "text/x-python",
   "name": "python",
   "nbconvert_exporter": "python",
   "pygments_lexer": "ipython3",
   "version": "3.7.4"
  },
  "toc": {
   "base_numbering": 1,
   "nav_menu": {},
   "number_sections": true,
   "sideBar": true,
   "skip_h1_title": false,
   "title_cell": "Table of Contents",
   "title_sidebar": "Contents",
   "toc_cell": false,
   "toc_position": {},
   "toc_section_display": true,
   "toc_window_display": false
  },
  "varInspector": {
   "cols": {
    "lenName": 16,
    "lenType": 16,
    "lenVar": 40
   },
   "kernels_config": {
    "python": {
     "delete_cmd_postfix": "",
     "delete_cmd_prefix": "del ",
     "library": "var_list.py",
     "varRefreshCmd": "print(var_dic_list())"
    },
    "r": {
     "delete_cmd_postfix": ") ",
     "delete_cmd_prefix": "rm(",
     "library": "var_list.r",
     "varRefreshCmd": "cat(var_dic_list()) "
    }
   },
   "types_to_exclude": [
    "module",
    "function",
    "builtin_function_or_method",
    "instance",
    "_Feature"
   ],
   "window_display": false
  }
 },
 "nbformat": 4,
 "nbformat_minor": 2
}
