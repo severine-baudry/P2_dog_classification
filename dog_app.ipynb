{
 "cells": [
  {
   "cell_type": "markdown",
   "metadata": {
    "id": "fsMg8coD3VDc"
   },
   "source": [
    "# Convolutional Neural Networks\n",
    "\n",
    "## Project: Write an Algorithm for a Dog Identification App \n",
    "\n",
    "---\n",
    "\n",
    "In this notebook, some template code has already been provided for you, and you will need to implement additional functionality to successfully complete this project. You will not need to modify the included code beyond what is requested. Sections that begin with **'(IMPLEMENTATION)'** in the header indicate that the following block of code will require additional functionality which you must provide. Instructions will be provided for each section, and the specifics of the implementation are marked in the code block with a 'TODO' statement. Please be sure to read the instructions carefully! \n",
    "\n",
    "> **Note**: Once you have completed all of the code implementations, you need to finalize your work by exporting the Jupyter Notebook as an HTML document. Before exporting the notebook to html, all of the code cells need to have been run so that reviewers can see the final implementation and output. You can then export the notebook by using the menu above and navigating to **File -> Download as -> HTML (.html)**. Include the finished document along with this notebook as your submission.\n",
    "\n",
    "In addition to implementing code, there will be questions that you must answer which relate to the project and your implementation. Each section where you will answer a question is preceded by a **'Question X'** header. Carefully read each question and provide thorough answers in the following text boxes that begin with **'Answer:'**. Your project submission will be evaluated based on your answers to each of the questions and the implementation you provide.\n",
    "\n",
    ">**Note:** Code and Markdown cells can be executed using the **Shift + Enter** keyboard shortcut.  Markdown cells can be edited by double-clicking the cell to enter edit mode.\n",
    "\n",
    "The rubric contains _optional_ \"Stand Out Suggestions\" for enhancing the project beyond the minimum requirements. If you decide to pursue the \"Stand Out Suggestions\", you should include the code in this Jupyter notebook.\n",
    "\n",
    "\n",
    "\n",
    "---\n",
    "### Why We're Here \n",
    "\n",
    "In this notebook, you will make the first steps towards developing an algorithm that could be used as part of a mobile or web app.  At the end of this project, your code will accept any user-supplied image as input.  If a dog is detected in the image, it will provide an estimate of the dog's breed.  If a human is detected, it will provide an estimate of the dog breed that is most resembling.  The image below displays potential sample output of your finished project (... but we expect that each student's algorithm will behave differently!). \n",
    "\n",
    "![Sample Dog Output](https://github.com/severine-baudry/P2_dog_classification/blob/VALID_9P/images/sample_dog_output.png?raw=1)\n",
    "\n",
    "In this real-world setting, you will need to piece together a series of models to perform different tasks; for instance, the algorithm that detects humans in an image will be different from the CNN that infers dog breed.  There are many points of possible failure, and no perfect algorithm exists.  Your imperfect solution will nonetheless create a fun user experience!\n",
    "\n",
    "### The Road Ahead\n",
    "\n",
    "We break the notebook into separate steps.  Feel free to use the links below to navigate the notebook.\n",
    "\n",
    "* [Step 0](#step0): Import Datasets\n",
    "* [Step 1](#step1): Detect Humans\n",
    "* [Step 2](#step2): Detect Dogs\n",
    "* [Step 3](#step3): Create a CNN to Classify Dog Breeds (from Scratch)\n",
    "* [Step 4](#step4): Create a CNN to Classify Dog Breeds (using Transfer Learning)\n",
    "* [Step 5](#step5): Write your Algorithm\n",
    "* [Step 6](#step6): Test Your Algorithm\n",
    "\n",
    "---\n",
    "<a id='step0'></a>\n",
    "## Step 0: Import Datasets\n",
    "\n",
    "Make sure that you've downloaded the required human and dog datasets:\n",
    "\n",
    "**Note: if you are using the Udacity workspace, you *DO NOT* need to re-download these - they can be found in the `/data` folder as noted in the cell below.**\n",
    "\n",
    "* Download the [dog dataset](https://s3-us-west-1.amazonaws.com/udacity-aind/dog-project/dogImages.zip).  Unzip the folder and place it in this project's home directory, at the location `/dog_images`. \n",
    "\n",
    "* Download the [human dataset](https://s3-us-west-1.amazonaws.com/udacity-aind/dog-project/lfw.zip).  Unzip the folder and place it in the home directory, at location `/lfw`.  \n",
    "\n",
    "*Note: If you are using a Windows machine, you are encouraged to use [7zip](http://www.7-zip.org/) to extract the folder.*\n",
    "\n",
    "In the code cell below, we save the file paths for both the human (LFW) dataset and dog dataset in the numpy arrays `human_files` and `dog_files`."
   ]
  },
  {
   "cell_type": "code",
   "execution_count": null,
   "metadata": {
    "colab": {
     "base_uri": "https://localhost:8080/"
    },
    "id": "E-023J3x5llZ",
    "outputId": "1b01024c-5fed-4e7f-9faf-72118df7ce69",
    "scrolled": false
   },
   "outputs": [],
   "source": [
    "# check if data exist\n",
    "# if on the udacity server, data should be located at : /data/\n",
    "# else it should be on ./data\n",
    "\n",
    "import os\n",
    "\n",
    "def check_data():\n",
    "  # check if data has been downloaded in udacity path /data\n",
    "  datapath=\"/data\" \n",
    "  pwd = !pwd\n",
    "\n",
    "  check_data = False\n",
    "  if os.path.exists(datapath):\n",
    "      if os.path.exists( os.path.join(datapath, \"dog_images\")) and \\\n",
    "          os.path.exists( os.path.join(datapath, \"lfw\")):\n",
    "              print(\"data files already downloaded (udacity)\")\n",
    "              check_data = True\n",
    "\n",
    "  # check if data has been downloaded locally\n",
    "  if check_data == False :\n",
    "      print(\"current directory\", *pwd)\n",
    "      datapath = os.path.join(*pwd, \"data\")\n",
    "      print(datapath)\n",
    "      if os.path.exists(datapath):\n",
    "          if os.path.exists( os.path.join(datapath, \"dog_images\")) and \\\n",
    "              os.path.exists( os.path.join(datapath, \"lfw\")):\n",
    "                  print(\"data files already downloaded (local)\")\n",
    "                  check_data = True\n",
    "\n",
    "  # download data if they don't exist\n",
    "  if check_data == False:\n",
    "      try :\n",
    "          !mkdir {datapath}\n",
    "          os.chdir(datapath)\n",
    "          if not os.path.isfile(\"dogImages.zip\"):\n",
    "              !wget https://s3-us-west-1.amazonaws.com/udacity-aind/dog-project/dogImages.zip\n",
    "          if not os.path.isfile(\"lfw.zip\"):\n",
    "              !wget https://s3-us-west-1.amazonaws.com/udacity-aind/dog-project/lfw.zip\n",
    "          !unzip  lfw.zip\n",
    "          !unzip dogImages.zip\n",
    "          !mv dogImages dog_images\n",
    "      finally :\n",
    "          os.chdir(*pwd)\n",
    "  return datapath\n",
    "\n",
    "datapath = check_data()"
   ]
  },
  {
   "cell_type": "code",
   "execution_count": null,
   "metadata": {
    "colab": {
     "base_uri": "https://localhost:8080/"
    },
    "id": "mvyMITsx6ONJ",
    "outputId": "7ab170d1-da0b-4bc7-b526-98d10ace3461"
   },
   "outputs": [],
   "source": [
    "pwd"
   ]
  },
  {
   "cell_type": "code",
   "execution_count": null,
   "metadata": {
    "colab": {
     "base_uri": "https://localhost:8080/"
    },
    "id": "kmLIKrq23VDk",
    "outputId": "2fce52fa-1525-4fb9-9e07-cc3a27b503b8"
   },
   "outputs": [],
   "source": [
    "import numpy as np\n",
    "from glob import glob\n",
    "\n",
    "# load filenames for human and dog images\n",
    "human_files = np.array(glob( os.path.join(datapath, \"lfw/*/*\")))\n",
    "dog_files = np.array(glob( os.path.join(datapath, \"dog_images/*/*/*\")))\n",
    "\n",
    "# print number of images in each dataset\n",
    "print('There are %d total human images.' % len(human_files))\n",
    "print('There are %d total dog images.' % len(dog_files))"
   ]
  },
  {
   "cell_type": "markdown",
   "metadata": {
    "id": "uLhgd6gV3VD6"
   },
   "source": [
    "<a id='step1'></a>\n",
    "## Step 1: Detect Humans\n",
    "\n",
    "In this section, we use OpenCV's implementation of [Haar feature-based cascade classifiers](http://docs.opencv.org/trunk/d7/d8b/tutorial_py_face_detection.html) to detect human faces in images.  \n",
    "\n",
    "OpenCV provides many pre-trained face detectors, stored as XML files on [github](https://github.com/opencv/opencv/tree/master/data/haarcascades).  We have downloaded one of these detectors and stored it in the `haarcascades` directory.  In the next code cell, we demonstrate how to use this detector to find human faces in a sample image."
   ]
  },
  {
   "cell_type": "code",
   "execution_count": null,
   "metadata": {
    "colab": {
     "base_uri": "https://localhost:8080/",
     "height": 237
    },
    "id": "BDoNXoqn3VED",
    "outputId": "b59b0b80-53b7-44ee-838b-541c9b2905b1"
   },
   "outputs": [],
   "source": [
    "import cv2                \n",
    "import matplotlib.pyplot as plt                        \n",
    "%matplotlib inline                               \n",
    "\n",
    "# extract pre-trained face detector\n",
    "face_cascade = cv2.CascadeClassifier('haarcascades/haarcascade_frontalface_alt.xml')\n",
    "\n",
    "# load color (BGR) image\n",
    "img = cv2.imread(human_files[0])\n",
    "# convert BGR image to grayscale\n",
    "gray = cv2.cvtColor(img, cv2.COLOR_BGR2GRAY)\n",
    "\n",
    "# find faces in image\n",
    "faces = face_cascade.detectMultiScale(gray)\n",
    "\n",
    "# print number of faces detected in the image\n",
    "print('Number of faces detected:', len(faces))\n",
    "\n",
    "# get bounding box for each detected face\n",
    "for (x,y,w,h) in faces:\n",
    "    # add bounding box to color image\n",
    "    cv2.rectangle(img,(x,y),(x+w,y+h),(255,0,0),2)\n",
    "    \n",
    "# convert BGR image to RGB for plotting\n",
    "cv_rgb = cv2.cvtColor(img, cv2.COLOR_BGR2RGB)\n",
    "\n",
    "# display the image, along with bounding box\n",
    "plt.imshow(cv_rgb)\n",
    "plt.show()"
   ]
  },
  {
   "cell_type": "markdown",
   "metadata": {
    "id": "GLOXYUTc3VEQ"
   },
   "source": [
    "Before using any of the face detectors, it is standard procedure to convert the images to grayscale.  The `detectMultiScale` function executes the classifier stored in `face_cascade` and takes the grayscale image as a parameter.  \n",
    "\n",
    "In the above code, `faces` is a numpy array of detected faces, where each row corresponds to a detected face.  Each detected face is a 1D array with four entries that specifies the bounding box of the detected face.  The first two entries in the array (extracted in the above code as `x` and `y`) specify the horizontal and vertical positions of the top left corner of the bounding box.  The last two entries in the array (extracted here as `w` and `h`) specify the width and height of the box.\n",
    "\n",
    "### Write a Human Face Detector\n",
    "\n",
    "We can use this procedure to write a function that returns `True` if a human face is detected in an image and `False` otherwise.  This function, aptly named `face_detector`, takes a string-valued file path to an image as input and appears in the code block below."
   ]
  },
  {
   "cell_type": "code",
   "execution_count": null,
   "metadata": {
    "id": "LIpwIYQh3VET"
   },
   "outputs": [],
   "source": [
    "# returns \"True\" if face is detected in image stored at img_path\n",
    "def face_detector(img_path):\n",
    "    img = cv2.imread(img_path)\n",
    "    gray = cv2.cvtColor(img, cv2.COLOR_BGR2GRAY)\n",
    "    faces = face_cascade.detectMultiScale(gray)\n",
    "    return len(faces) > 0"
   ]
  },
  {
   "cell_type": "markdown",
   "metadata": {
    "id": "Vxblgt5_3VEf"
   },
   "source": [
    "### (IMPLEMENTATION) Assess the Human Face Detector\n",
    "\n",
    "__Question 1:__ Use the code cell below to test the performance of the `face_detector` function.  \n",
    "- What percentage of the first 100 images in `human_files` have a detected human face?  \n",
    "- What percentage of the first 100 images in `dog_files` have a detected human face? \n",
    "\n",
    "Ideally, we would like 100% of human images with a detected face and 0% of dog images with a detected face.  You will see that our algorithm falls short of this goal, but still gives acceptable performance.  We extract the file paths for the first 100 images from each of the datasets and store them in the numpy arrays `human_files_short` and `dog_files_short`."
   ]
  },
  {
   "cell_type": "markdown",
   "metadata": {
    "id": "Ud7QyzAV3VEh"
   },
   "source": [
    "__Answer:__ \n",
    "(You can print out your results and/or write your percentages in this cell)"
   ]
  },
  {
   "cell_type": "code",
   "execution_count": null,
   "metadata": {
    "id": "l5i353yt3VEk"
   },
   "outputs": [],
   "source": [
    "from tqdm import tqdm\n",
    "\n",
    "human_files_short = human_files[:100]\n",
    "dog_files_short = dog_files[:100]\n",
    "\n",
    "#-#-# Do NOT modify the code above this line. #-#-#\n",
    "\n",
    "## TODO: Test the performance of the face_detector algorithm \n",
    "## on the images in human_files_short and dog_files_short.\n",
    "l_faces_humans = [face_detector(img_path) for img_path in human_files_short]\n",
    "print(\"Percentage of human images with a face detected : \", 100*sum(l_faces_humans)/len(l_faces_humans))\n",
    "l_faces_dogs = [face_detector(img_path) for img_path in dog_files_short]\n",
    "print(\"Percentage of dog images with a face detected : \", 100*sum(l_faces_dogs)/len(l_faces_dogs))"
   ]
  },
  {
   "cell_type": "markdown",
   "metadata": {
    "id": "BmzejaFv3VEv"
   },
   "source": [
    "We suggest the face detector from OpenCV as a potential way to detect human images in your algorithm, but you are free to explore other approaches, especially approaches that make use of deep learning :).  Please use the code cell below to design and test your own face detection algorithm.  If you decide to pursue this _optional_ task, report performance on `human_files_short` and `dog_files_short`."
   ]
  },
  {
   "cell_type": "code",
   "execution_count": null,
   "metadata": {
    "id": "-DIQ24nG3VE0"
   },
   "outputs": [],
   "source": [
    "### (Optional) \n",
    "### TODO: Test performance of anotherface detection algorithm.\n",
    "### Feel free to use as many code cells as needed."
   ]
  },
  {
   "cell_type": "markdown",
   "metadata": {
    "id": "aQQAbJym3VFC"
   },
   "source": [
    "---\n",
    "<a id='step2'></a>\n",
    "## Step 2: Detect Dogs\n",
    "\n",
    "In this section, we use a [pre-trained model](http://pytorch.org/docs/master/torchvision/models.html) to detect dogs in images.  \n",
    "\n",
    "### Obtain Pre-trained VGG-16 Model\n",
    "\n",
    "The code cell below downloads the VGG-16 model, along with weights that have been trained on [ImageNet](http://www.image-net.org/), a very large, very popular dataset used for image classification and other vision tasks.  ImageNet contains over 10 million URLs, each linking to an image containing an object from one of [1000 categories](https://gist.github.com/yrevar/942d3a0ac09ec9e5eb3a).  "
   ]
  },
  {
   "cell_type": "code",
   "execution_count": null,
   "metadata": {
    "id": "oYC2ISVt3VFD"
   },
   "outputs": [],
   "source": [
    "import torch\n",
    "import torchvision.models as models\n",
    "\n",
    "# check if CUDA is available\n",
    "use_cuda = torch.cuda.is_available()\n",
    "\n",
    "def tensor_to_cuda(x):\n",
    "    if use_cuda :\n",
    "        x = x.cuda()\n",
    "    return x"
   ]
  },
  {
   "cell_type": "code",
   "execution_count": null,
   "metadata": {
    "id": "73BA3B3c3VFM"
   },
   "outputs": [],
   "source": [
    "from PIL import Image\n",
    "from PIL import ImageFile\n",
    "ImageFile.LOAD_TRUNCATED_IMAGES = True\n",
    "\n",
    "import torchvision.transforms as transforms"
   ]
  },
  {
   "cell_type": "code",
   "execution_count": null,
   "metadata": {
    "colab": {
     "base_uri": "https://localhost:8080/",
     "height": 104,
     "referenced_widgets": [
      "fe0b8cc1372b4ea8a476027381db2447",
      "8c3077a6a7654d0da9b6c9054023adae",
      "2f259fdaad3042a19e2cb5448d65ba2e",
      "5a526605cf6c4f6f955d9a3467b4e3d4",
      "4416a6a253a14e78896e1a4079b8fe46",
      "d01da54b8a614d77a23fe45347dd30f6",
      "2cc8361354e64a7cac5001385eb7d08f",
      "ac4bfaa5a2f443518709e9f8d4e3d130"
     ]
    },
    "id": "vjn7FvI_3VFV",
    "outputId": "62a652a9-5445-4a0a-caef-3f3da4c6b231"
   },
   "outputs": [],
   "source": [
    "# define VGG16 model\n",
    "VGG16 = models.vgg16(pretrained=True)\n",
    "\n",
    "# move model to GPU if CUDA is available\n",
    "if use_cuda:\n",
    "    VGG16 = VGG16.cuda()"
   ]
  },
  {
   "cell_type": "code",
   "execution_count": null,
   "metadata": {
    "colab": {
     "base_uri": "https://localhost:8080/"
    },
    "id": "vw6gsx9j3VFe",
    "outputId": "c5e1b726-080f-4692-c15b-22acaf555b02"
   },
   "outputs": [],
   "source": [
    "! pip install torchsummary\n",
    "from torchsummary import summary\n",
    "print(VGG16)\n",
    "#summary(VGG16)"
   ]
  },
  {
   "cell_type": "code",
   "execution_count": null,
   "metadata": {
    "id": "DUmFEHHC3VFo"
   },
   "outputs": [],
   "source": [
    "import requests\n",
    "import json\n",
    "req = requests.get(\"https://s3.amazonaws.com/deep-learning-models/image-models/imagenet_class_index.json\") \n",
    "str_idx = str(req.content, 'utf-8')\n",
    "class_index = json.loads(str_idx)"
   ]
  },
  {
   "cell_type": "markdown",
   "metadata": {
    "id": "GDJRhtPZ3VFx"
   },
   "source": [
    "Given an image, this pre-trained VGG-16 model returns a prediction (derived from the 1000 possible categories in ImageNet) for the object that is contained in the image."
   ]
  },
  {
   "cell_type": "markdown",
   "metadata": {
    "id": "NEe_q5B13VFz"
   },
   "source": [
    "### (IMPLEMENTATION) Making Predictions with a Pre-trained Model\n",
    "\n",
    "In the next code cell, you will write a function that accepts a path to an image (such as `'dogImages/train/001.Affenpinscher/Affenpinscher_00001.jpg'`) as input and returns the index corresponding to the ImageNet class that is predicted by the pre-trained VGG-16 model.  The output should always be an integer between 0 and 999, inclusive.\n",
    "\n",
    "Before writing the function, make sure that you take the time to learn  how to appropriately pre-process tensors for pre-trained models in the [PyTorch documentation](http://pytorch.org/docs/stable/torchvision/models.html)."
   ]
  },
  {
   "cell_type": "code",
   "execution_count": null,
   "metadata": {
    "id": "lSN1ovPI3VF3"
   },
   "outputs": [],
   "source": [
    "def VGG16_predict(img_path):\n",
    "    '''\n",
    "    Use pre-trained VGG-16 model to obtain index corresponding to \n",
    "    predicted ImageNet class for image at specified path\n",
    "    \n",
    "    Args:\n",
    "        img_path: path to an image\n",
    "        \n",
    "    Returns:\n",
    "        Index corresponding to VGG-16 model's prediction\n",
    "    '''\n",
    "    \n",
    "    ## TODO: Complete the function.\n",
    "    ## Load and pre-process an image from the given img_path\n",
    "    ## Return the *index* of the predicted class for that image\n",
    "    img = Image.open(img_path)\n",
    "    \n",
    "    # resize the image to 224x224, convert PIL image to torch tensor, and normalize image values btw 0 and 1\n",
    "    img_transform = transforms.Compose( [ \n",
    "            transforms.Resize((224,224)),\n",
    "            transforms.ToTensor(),\n",
    "            transforms.Normalize(mean=[0.485, 0.456, 0.406],\n",
    "                                 std=[0.229, 0.224, 0.225]),\n",
    "                        ])\n",
    "    normed_tensor = img_transform(img).unsqueeze(0)\n",
    "    normed_tensor = tensor_to_cuda(normed_tensor)\n",
    "    #print(normed_tensor.shape)\n",
    "    idx = VGG16( normed_tensor )\n",
    "    \n",
    "    imax = torch.argmax(idx)\n",
    "    return imax\n",
    "    return idx # predicted class index"
   ]
  },
  {
   "cell_type": "code",
   "execution_count": null,
   "metadata": {
    "colab": {
     "base_uri": "https://localhost:8080/",
     "height": 167
    },
    "id": "7wYomJFh3VGH",
    "outputId": "fa597b78-824f-4992-ba74-aa0293930b1d"
   },
   "outputs": [],
   "source": [
    "idx=VGG16_predict(dog_files_short[0])"
   ]
  },
  {
   "cell_type": "code",
   "execution_count": null,
   "metadata": {
    "colab": {
     "base_uri": "https://localhost:8080/",
     "height": 167
    },
    "id": "J78DL6q03VGS",
    "outputId": "3f02a37d-eb57-4fad-8957-4d0f623089f4"
   },
   "outputs": [],
   "source": [
    "print(idx)"
   ]
  },
  {
   "cell_type": "code",
   "execution_count": null,
   "metadata": {
    "colab": {
     "base_uri": "https://localhost:8080/"
    },
    "id": "EB3XA5qu3VGb",
    "outputId": "d8718bc7-f2c8-4c7c-fcf8-d1df7a1b38ba"
   },
   "outputs": [],
   "source": [
    "class_index['243']"
   ]
  },
  {
   "cell_type": "code",
   "execution_count": null,
   "metadata": {
    "id": "c7PSEeLu3VGj"
   },
   "outputs": [],
   "source": [
    "dog_files_short[0]"
   ]
  },
  {
   "cell_type": "code",
   "execution_count": null,
   "metadata": {
    "id": "6lZRpaC93VGs"
   },
   "outputs": [],
   "source": [
    "pil_img = Image.open(dog_files_short[0])\n",
    "plt.imshow(np.asarray(pil_img))"
   ]
  },
  {
   "cell_type": "markdown",
   "metadata": {
    "id": "Z2WlH_Ac3VGz"
   },
   "source": [
    "### (IMPLEMENTATION) Write a Dog Detector\n",
    "\n",
    "While looking at the [dictionary](https://gist.github.com/yrevar/942d3a0ac09ec9e5eb3a), you will notice that the categories corresponding to dogs appear in an uninterrupted sequence and correspond to dictionary keys 151-268, inclusive, to include all categories from `'Chihuahua'` to `'Mexican hairless'`.  Thus, in order to check to see if an image is predicted to contain a dog by the pre-trained VGG-16 model, we need only check if the pre-trained model predicts an index between 151 and 268 (inclusive).\n",
    "\n",
    "Use these ideas to complete the `dog_detector` function below, which returns `True` if a dog is detected in an image (and `False` if not)."
   ]
  },
  {
   "cell_type": "code",
   "execution_count": null,
   "metadata": {
    "id": "oPNlGksd3VG0"
   },
   "outputs": [],
   "source": [
    "### returns \"True\" if a dog is detected in the image stored at img_path\n",
    "def dog_detector(img_path):\n",
    "    ## TODO: Complete the function.\n",
    "    object_detected = VGG16_predict(img_path)\n",
    "    if object_detected >=151 and object_detected <= 268 :\n",
    "        return True\n",
    "    else :\n",
    "        return False"
   ]
  },
  {
   "cell_type": "markdown",
   "metadata": {
    "id": "BlQ1SifG3VHB"
   },
   "source": [
    "### (IMPLEMENTATION) Assess the Dog Detector\n",
    "\n",
    "__Question 2:__ Use the code cell below to test the performance of your `dog_detector` function.  \n",
    "- What percentage of the images in `human_files_short` have a detected dog?  \n",
    "- What percentage of the images in `dog_files_short` have a detected dog?"
   ]
  },
  {
   "cell_type": "markdown",
   "metadata": {
    "id": "-6OjuQ1_3VHC"
   },
   "source": [
    "__Answer:__ \n"
   ]
  },
  {
   "cell_type": "code",
   "execution_count": null,
   "metadata": {
    "id": "zBp2vBgD3VHD"
   },
   "outputs": [],
   "source": [
    "### TODO: Test the performance of the dog_detector function\n",
    "### on the images in human_files_short and dog_files_short.\n",
    "vgg_dog_detected = [dog_detector(img_path) for img_path in dog_files_short]"
   ]
  },
  {
   "cell_type": "code",
   "execution_count": null,
   "metadata": {
    "id": "VwcBegFR3VHM"
   },
   "outputs": [],
   "source": [
    "vgg_human_detected = [dog_detector(img_path) for img_path in human_files_short]"
   ]
  },
  {
   "cell_type": "code",
   "execution_count": null,
   "metadata": {
    "id": "fbr_wJZ33VHT"
   },
   "outputs": [],
   "source": [
    "print(\"Percentage of dogs detected with VGG16 in dog images: \",100*sum(vgg_dog_detected)/len(vgg_dog_detected) )\n",
    "print(\"Percentage of dogs detected with VGG16 in human image: \",100*sum(vgg_human_detected)/len(vgg_human_detected) )"
   ]
  },
  {
   "cell_type": "markdown",
   "metadata": {
    "id": "mcYnEzlB3VHb"
   },
   "source": [
    "We suggest VGG-16 as a potential network to detect dog images in your algorithm, but you are free to explore other pre-trained networks (such as [Inception-v3](http://pytorch.org/docs/master/torchvision/models.html#inception-v3), [ResNet-50](http://pytorch.org/docs/master/torchvision/models.html#id3), etc).  Please use the code cell below to test other pre-trained PyTorch models.  If you decide to pursue this _optional_ task, report performance on `human_files_short` and `dog_files_short`."
   ]
  },
  {
   "cell_type": "code",
   "execution_count": null,
   "metadata": {
    "id": "MtPD5qqX3VHc"
   },
   "outputs": [],
   "source": [
    "### (Optional) \n",
    "### TODO: Report the performance of another pre-trained network.\n",
    "### Feel free to use as many code cells as needed."
   ]
  },
  {
   "cell_type": "markdown",
   "metadata": {
    "id": "tygknSv-3VHl"
   },
   "source": [
    "---\n",
    "<a id='step3'></a>\n",
    "## Step 3: Create a CNN to Classify Dog Breeds (from Scratch)\n",
    "\n",
    "Now that we have functions for detecting humans and dogs in images, we need a way to predict breed from images.  In this step, you will create a CNN that classifies dog breeds.  You must create your CNN _from scratch_ (so, you can't use transfer learning _yet_!), and you must attain a test accuracy of at least 10%.  In Step 4 of this notebook, you will have the opportunity to use transfer learning to create a CNN that attains greatly improved accuracy.\n",
    "\n",
    "We mention that the task of assigning breed to dogs from images is considered exceptionally challenging.  To see why, consider that *even a human* would have trouble distinguishing between a Brittany and a Welsh Springer Spaniel.  \n",
    "\n",
    "Brittany | Welsh Springer Spaniel\n",
    "- | - \n",
    "<img src=\"https://github.com/severine-baudry/P2_dog_classification/blob/VALID_9P/images/Brittany_02625.jpg?raw=1\" width=\"100\"> | <img src=\"https://github.com/severine-baudry/P2_dog_classification/blob/VALID_9P/images/Welsh_springer_spaniel_08203.jpg?raw=1\" width=\"200\">\n",
    "\n",
    "It is not difficult to find other dog breed pairs with minimal inter-class variation (for instance, Curly-Coated Retrievers and American Water Spaniels).  \n",
    "\n",
    "Curly-Coated Retriever | American Water Spaniel\n",
    "- | -\n",
    "<img src=\"https://github.com/severine-baudry/P2_dog_classification/blob/VALID_9P/images/Curly-coated_retriever_03896.jpg?raw=1\" width=\"200\"> | <img src=\"https://github.com/severine-baudry/P2_dog_classification/blob/VALID_9P/images/American_water_spaniel_00648.jpg?raw=1\" width=\"200\">\n",
    "\n",
    "\n",
    "Likewise, recall that labradors come in yellow, chocolate, and black.  Your vision-based algorithm will have to conquer this high intra-class variation to determine how to classify all of these different shades as the same breed.  \n",
    "\n",
    "Yellow Labrador | Chocolate Labrador | Black Labrador\n",
    "- | -\n",
    "<img src=\"https://github.com/severine-baudry/P2_dog_classification/blob/VALID_9P/images/Labrador_retriever_06457.jpg?raw=1\" width=\"150\"> | <img src=\"https://github.com/severine-baudry/P2_dog_classification/blob/VALID_9P/images/Labrador_retriever_06455.jpg?raw=1\" width=\"240\"> | <img src=\"https://github.com/severine-baudry/P2_dog_classification/blob/VALID_9P/images/Labrador_retriever_06449.jpg?raw=1\" width=\"220\">\n",
    "\n",
    "We also mention that random chance presents an exceptionally low bar: setting aside the fact that the classes are slightly imabalanced, a random guess will provide a correct answer roughly 1 in 133 times, which corresponds to an accuracy of less than 1%.  \n",
    "\n",
    "Remember that the practice is far ahead of the theory in deep learning.  Experiment with many different architectures, and trust your intuition.  And, of course, have fun!\n",
    "\n",
    "### (IMPLEMENTATION) Specify Data Loaders for the Dog Dataset\n",
    "\n",
    "Use the code cell below to write three separate [data loaders](http://pytorch.org/docs/stable/data.html#torch.utils.data.DataLoader) for the training, validation, and test datasets of dog images (located at `dog_images/train`, `dog_images/valid`, and `dog_images/test`, respectively).  You may find [this documentation on custom datasets](http://pytorch.org/docs/stable/torchvision/datasets.html) to be a useful resource.  If you are interested in augmenting your training and/or validation data, check out the wide variety of [transforms](http://pytorch.org/docs/stable/torchvision/transforms.html?highlight=transform)!"
   ]
  },
  {
   "cell_type": "code",
   "execution_count": null,
   "metadata": {
    "colab": {
     "base_uri": "https://localhost:8080/"
    },
    "id": "0b04JfrM3VHn",
    "outputId": "1585465c-75d6-4034-fae4-7153617bbc89"
   },
   "outputs": [],
   "source": [
    "import os\n",
    "os.walk\n",
    "rootpath = os.path.join(datapath, \"dog_images\")\n",
    "print(os.listdir(rootpath))\n",
    "def count_files(rootpath):\n",
    "    cnt = 0\n",
    "    for dirpath, dirnames, filenames in os.walk(rootpath) :\n",
    "        for filename in filenames:\n",
    "            imgname = os.path.join(rootpath, dirpath, filename)\n",
    "            #print(imgname)\n",
    "            cnt+=1\n",
    "    return cnt\n",
    "n_train = count_files( os.path.join(rootpath,\"train/\"))\n",
    "print(\"nb train images : \", n_train)\n",
    "n_valid = count_files( os.path.join(rootpath,\"valid/\"))\n",
    "print(\"nb valid images : \", n_valid)\n",
    "n_test = count_files( os.path.join(rootpath,\"test/\"))\n",
    "print(\"nb test images : \", n_test)"
   ]
  },
  {
   "cell_type": "code",
   "execution_count": null,
   "metadata": {
    "id": "oaRDznpp3VH5"
   },
   "outputs": [],
   "source": [
    "import os\n",
    "import torch\n",
    "import torchvision.models as models\n",
    "\n",
    "# check if CUDA is available\n",
    "use_cuda = torch.cuda.is_available()\n",
    "\n",
    "def tensor_to_cuda(x):\n",
    "    if use_cuda :\n",
    "        x = x.cuda()\n",
    "    return x\n",
    "\n",
    "from torchvision import datasets\n",
    "from torchvision import transforms\n",
    "from PIL import Image\n",
    "from PIL import ImageFile\n",
    "ImageFile.LOAD_TRUNCATED_IMAGES = True\n",
    "\n",
    "from IPython.display import Audio"
   ]
  },
  {
   "cell_type": "code",
   "execution_count": null,
   "metadata": {
    "id": "g7vD01o8fbo1"
   },
   "outputs": [],
   "source": [
    "def print_GPU_memory():\n",
    "    print(\"GPU mem allocated : {:.2f} MB\".format(torch.cuda.memory_allocated()/(1024*1024)) )\n",
    "    print(\"GPU mem reserved : {:.2f} MB\".format(torch.cuda.memory_reserved()/(1024*1024)) )\n",
    "\n",
    "import gc\n",
    "def print_obj_size():\n",
    "  for obj in gc.get_objects():\n",
    "      try:\n",
    "          if torch.is_tensor(obj) or (hasattr(obj, 'data') and torch.is_tensor(obj.data)):\n",
    "              print(type(obj), obj.size())\n",
    "      except:\n",
    "          pass\n"
   ]
  },
  {
   "cell_type": "code",
   "execution_count": null,
   "metadata": {
    "colab": {
     "base_uri": "https://localhost:8080/"
    },
    "id": "xcpFY16pfm7d",
    "outputId": "dbd4f129-bef0-4019-bc7d-5bcf1e8d985c"
   },
   "outputs": [],
   "source": [
    "print_GPU_memory()\n",
    "print_obj_size()"
   ]
  },
  {
   "cell_type": "code",
   "execution_count": null,
   "metadata": {
    "colab": {
     "base_uri": "https://localhost:8080/"
    },
    "id": "oqEXsupRf1RZ",
    "outputId": "e4f7a7e8-d178-41de-d47e-d39ce6e00e93"
   },
   "outputs": [],
   "source": [
    "# WARNING !!! will clean memory and delete unused objects\n",
    "torch.cuda.empty_cache()\n",
    "gc.collect()"
   ]
  },
  {
   "cell_type": "code",
   "execution_count": null,
   "metadata": {
    "id": "Ju9SbhhP3VIB"
   },
   "outputs": [],
   "source": [
    "#Audio(\"/usr/share/sounds/ubuntu/ringtones/Alarm synth.ogg\", autoplay=True)"
   ]
  },
  {
   "cell_type": "code",
   "execution_count": null,
   "metadata": {
    "id": "PZMSXFYE3VIH"
   },
   "outputs": [],
   "source": [
    "\n",
    "### TODO: Write data loaders for training, validation, and test sets\n",
    "## Specify appropriate transforms, and batch_sizes\n",
    "# resize the image to 224x224, convert PIL image to torch tensor, and normalize image values btw 0 and 1\n",
    "num_workers = 0\n",
    "img_transform = transforms.Compose( [\n",
    "        transforms.RandomRotation(10),                               \n",
    "        transforms.CenterCrop((224,224)),\n",
    "        transforms.RandomHorizontalFlip(),\n",
    "        transforms.ToTensor(),\n",
    "        transforms.Normalize(mean=[0.485, 0.456, 0.406],\n",
    "                             std=[0.229, 0.224, 0.225]),\n",
    "                    ])\n",
    "test_transform = transforms.Compose( [\n",
    "        #transforms.Resize((224,224)),\n",
    "        transforms.CenterCrop((224,224)),\n",
    "        transforms.ToTensor(),\n",
    "        transforms.Normalize(mean=[0.485, 0.456, 0.406],\n",
    "                             std=[0.229, 0.224, 0.225]),\n",
    "                    ])\n",
    "loaders_scratch = {}\n",
    "train_set = datasets.ImageFolder(os.path.join(datapath,\"dog_images/train/\"),transform= img_transform)\n",
    "valid_set = datasets.ImageFolder(os.path.join(datapath,\"dog_images/valid/\"), transform = test_transform)\n",
    "test_set = datasets.ImageFolder(os.path.join(datapath,\"dog_images/test\"), transform = test_transform)\n",
    "\n",
    "#random_generator=torch.Generator().manual_seed(42)\n",
    "loaders_scratch[\"train\"] = torch.utils.data.DataLoader(train_set, batch_size= 32, \n",
    "                                          shuffle = True, num_workers = num_workers)\n",
    "loaders_scratch[\"valid\"] = torch.utils.data.DataLoader(valid_set, batch_size= 32, \n",
    "                                           shuffle = False)\n",
    "loaders_scratch[\"test\"] = torch.utils.data.DataLoader(test_set, batch_size= 32, \n",
    "                                           shuffle = False)\n",
    "\n",
    "                                 \n",
    "                                "
   ]
  },
  {
   "cell_type": "markdown",
   "metadata": {
    "id": "OGZ8xSFr3VIO"
   },
   "source": [
    "**Question 3:** Describe your chosen procedure for preprocessing the data. \n",
    "- How does your code resize the images (by cropping, stretching, etc)?  What size did you pick for the input tensor, and why?\n",
    "- Did you decide to augment the dataset?  If so, how (through translations, flips, rotations, etc)?  If not, why not?\n"
   ]
  },
  {
   "cell_type": "markdown",
   "metadata": {
    "id": "YX1Sqtcr3VIP"
   },
   "source": [
    "**Answer**:"
   ]
  },
  {
   "cell_type": "markdown",
   "metadata": {
    "id": "OXcKgVT03VIQ"
   },
   "source": [
    "### (IMPLEMENTATION) Model Architecture\n",
    "\n",
    "Create a CNN to classify dog breed.  Use the template in the code cell below."
   ]
  },
  {
   "cell_type": "code",
   "execution_count": null,
   "metadata": {
    "id": "aM23XeFd3VIS"
   },
   "outputs": [],
   "source": [
    "def output_conv_size(in_size, kernel_size, stride=1, padding=0):\n",
    "    return (in_size - kernel_size +1 + 2*padding)/stride\n",
    "    "
   ]
  },
  {
   "cell_type": "code",
   "execution_count": null,
   "metadata": {
    "id": "ZPsEIKoR3VIY"
   },
   "outputs": [],
   "source": [
    "n_dog_breeds = 133"
   ]
  },
  {
   "cell_type": "code",
   "execution_count": null,
   "metadata": {
    "id": "QdPH5ww83VIj"
   },
   "outputs": [],
   "source": [
    "import torch.nn as nn\n",
    "import torch.nn.functional as F\n",
    "import numpy as np\n",
    "\n",
    "# define the CNN architecture\n",
    "class Net(nn.Module):\n",
    "    ### TODO: choose an architecture, and complete the class\n",
    "    def __init__(self):\n",
    "        super(Net, self).__init__()\n",
    "        ## Define layers of a CNN\n",
    "        l_channels = [3, 16 ,32, 64, 128]\n",
    "        self.l_channels = l_channels\n",
    "        self.conv1 = nn.Conv2d(in_channels = l_channels[0], out_channels = l_channels[1],\n",
    "                              kernel_size = (3,3),padding = (1,1) )\n",
    "        self.conv2 = nn.Conv2d(in_channels = l_channels[1], out_channels = l_channels[2] ,\n",
    "                              kernel_size = 3, padding = 1)\n",
    "        self.conv3 = nn.Conv2d(in_channels = l_channels[2], out_channels = l_channels[3] ,\n",
    "                              kernel_size = 3, padding = 1)\n",
    "        self.conv4 = nn.Conv2d(in_channels = l_channels[3], out_channels = l_channels[4] ,\n",
    "                              kernel_size = 3, padding = 1)\n",
    "        \n",
    "        self.pool = nn.MaxPool2d(kernel_size = 2, stride = 2)\n",
    "        self.dropout = nn.Dropout(0.2)\n",
    "        self.bn1 = nn.BatchNorm2d( l_channels[1], affine=True)      \n",
    "        self.bn2 = nn.BatchNorm2d( l_channels[2], affine=True)      \n",
    "        self.bn3 = nn.BatchNorm2d( l_channels[3], affine=True)      \n",
    " \n",
    "        l_fc_size = [8000, 2048,1024 ]\n",
    "        self.fc1 = nn.Linear(in_features = l_channels[4] * 14*14, out_features = l_fc_size[0])\n",
    "        #self.fc2 = nn.Linear(in_features = l_fc_size[0] , out_features= n_dog_breeds)\n",
    "        self.fc2 = nn.Linear(in_features = l_fc_size[0] , out_features=  l_fc_size[2])\n",
    "        self.fc3 = nn.Linear(in_features = l_fc_size[2] , out_features=  n_dog_breeds)\n",
    "        \n",
    "    def forward(self, x):\n",
    "        ## Define forward behavior\n",
    "        x = self.conv1(x)\n",
    "        x = self.pool(x)\n",
    "        x = F.relu(x)\n",
    "        x = self.bn1(x)\n",
    "        x = self.conv2(x)\n",
    "        x = self.pool(x)\n",
    "        x = F.relu(x)\n",
    "        x = self.bn2(x)\n",
    "        x = self.conv3(x)\n",
    "        x = self.pool(x)\n",
    "        x = F.relu(x)\n",
    "        x = self.bn3(x)\n",
    "        x = self.conv4(x)\n",
    "        x = self.pool(x)\n",
    "        x = F.relu(x)\n",
    "        #print(\"end features layer shape : \", x.shape)\n",
    "        x = x.view(x.shape[0],-1)\n",
    "        #print(\"unroll shape :\", x.shape)\n",
    "        x = self.fc1(x)\n",
    "        x = F.relu(x)\n",
    "        x = self.dropout(x)\n",
    "        x = self.fc2(x)\n",
    "        x = F.relu(x)\n",
    "        x = self.dropout(x)\n",
    "        x = self.fc3(x)\n",
    "        #x = F.relu(x)\n",
    "        #x = self.fc4(x)\n",
    "        \n",
    "        return x\n",
    "\n",
    "#-#-# You so NOT have to modify the code below this line. #-#-#\n",
    "\n",
    "# instantiate the CNN\n",
    "model_scratch = Net()\n",
    "\n",
    "# move tensors to GPU if CUDA is available\n",
    "if use_cuda:\n",
    "    model_scratch.cuda()"
   ]
  },
  {
   "cell_type": "code",
   "execution_count": null,
   "metadata": {
    "colab": {
     "base_uri": "https://localhost:8080/"
    },
    "id": "VxKRFXXR3VIo",
    "outputId": "6e60ec70-10a8-47dd-b936-8061730019f4"
   },
   "outputs": [],
   "source": [
    "l_channels = [3, 16 ,32, 64, 128]\n",
    "input_size = 224\n",
    "for i in range(4):\n",
    "    input_size = output_conv_size(input_size, 3,2,1)\n",
    "    print(i, input_size)\n",
    "print(input_size * input_size * model_scratch.l_channels[i+1])"
   ]
  },
  {
   "cell_type": "markdown",
   "metadata": {
    "id": "28P4eMEW3VIw"
   },
   "source": [
    "__Question 4:__ Outline the steps you took to get to your final CNN architecture and your reasoning at each step.  "
   ]
  },
  {
   "cell_type": "markdown",
   "metadata": {
    "id": "UVn8c1BM3VIx"
   },
   "source": [
    "__Answer:__ "
   ]
  },
  {
   "cell_type": "markdown",
   "metadata": {
    "id": "sOLraiYU3VIy"
   },
   "source": [
    "### (IMPLEMENTATION) Specify Loss Function and Optimizer\n",
    "\n",
    "Use the next code cell to specify a [loss function](http://pytorch.org/docs/stable/nn.html#loss-functions) and [optimizer](http://pytorch.org/docs/stable/optim.html).  Save the chosen loss function as `criterion_scratch`, and the optimizer as `optimizer_scratch` below."
   ]
  },
  {
   "cell_type": "code",
   "execution_count": null,
   "metadata": {
    "id": "A5Rlhprq3VIz"
   },
   "outputs": [],
   "source": [
    "import torch.optim as optim\n",
    "import time"
   ]
  },
  {
   "cell_type": "markdown",
   "metadata": {
    "id": "2RQc3PCO3VI-"
   },
   "source": [
    "### (IMPLEMENTATION) Train and Validate the Model\n",
    "\n",
    "Train and validate your model in the code cell below.  [Save the final model parameters](http://pytorch.org/docs/master/notes/serialization.html) at filepath `'model_scratch.pt'`."
   ]
  },
  {
   "cell_type": "code",
   "execution_count": null,
   "metadata": {
    "id": "ecGt9Rd13VJD"
   },
   "outputs": [],
   "source": [
    "from tqdm import tqdm\n",
    "import os\n",
    "def train(n_epochs, loaders, model, optimizer, criterion, use_cuda, save_path, l_intermediate_res):\n",
    "    \"\"\"returns trained model\"\"\"\n",
    "    break_file = \"aertre\"\n",
    "    if os.path.isfile(break_file):\n",
    "        os.remove(break_file)\n",
    "    # initialize tracker for minimum validation loss\n",
    "    valid_loss_min = np.Inf \n",
    "    \n",
    "    for epoch in range(1, n_epochs+1):\n",
    "        init_time = time.time()\n",
    "        # initialize variables to monitor training and validation loss\n",
    "        train_loss = 0.0\n",
    "        train_correct = 0\n",
    "        valid_loss = 0.0\n",
    "        \n",
    "        ###################\n",
    "        # train the model #\n",
    "        ###################\n",
    "        model.train()\n",
    "        if os.path.isfile(break_file):\n",
    "            print(\"breaking epoch loop\")\n",
    "            break\n",
    "        for batch_idx, (data, target) in  enumerate(loaders['train']) :\n",
    "            #print(batch_idx)\n",
    "            # move to GPU\n",
    "            if use_cuda:\n",
    "                data, target = data.cuda(), target.cuda()\n",
    "            batch_size = len(data)\n",
    "            #print(batch_size)\n",
    "            #print(data.shape)\n",
    "            #print(data.type())\n",
    "            optimizer.zero_grad()\n",
    "            pred = model(data)\n",
    "            loss = criterion(pred, target)\n",
    "            loss.backward()\n",
    "            optimizer.step()\n",
    "            ## find the loss and update the model parameters accordingly\n",
    "            ## record the average training loss, using something like\n",
    "            ## train_loss = train_loss + ((1 / (batch_idx + 1)) * (loss.data - train_loss))\n",
    "            batch_size = data.shape[0]\n",
    "            train_loss += loss.item()*batch_size\n",
    "            pred = pred.data.max(1, keepdim=True)[1]\n",
    "            train_correct += np.sum(np.squeeze(pred.eq(target.data.view_as(pred))).cpu().numpy())\n",
    "        ######################    \n",
    "        # validate the model #\n",
    "        ######################\n",
    "        model.eval()\n",
    "        correct = 0\n",
    "        total=0\n",
    "        for batch_idx, (data, target) in enumerate(loaders['valid']):\n",
    "            # move to GPU\n",
    "            if use_cuda:\n",
    "                data, target = data.cuda(), target.cuda()\n",
    "            ## update the average validation loss\n",
    "                pred = model(data)\n",
    "                loss = criterion( pred, target)\n",
    "                valid_loss += loss.item()*batch_size\n",
    "                pred = pred.data.max(1, keepdim=True)[1]\n",
    "                correct += np.sum(np.squeeze(pred.eq(target.data.view_as(pred))).cpu().numpy())\n",
    "                total += data.size(0)\n",
    "\n",
    "        valid_loss /= len(loaders[\"valid\"].dataset) \n",
    "        train_loss /= len(loaders[\"train\"].dataset) \n",
    "        train_correct /= float(len(loaders[\"train\"].dataset) )\n",
    "\n",
    "        #print(total, len(loaders[\"valid\"].dataset) )\n",
    "        # print training/validation statistics \n",
    "        end_time = time.time()\n",
    "        delta_time = end_time - init_time\n",
    "        init_time = end_time\n",
    "        str_time = time.strftime('%H:%M:%S', time.gmtime(delta_time)) \n",
    "        l_intermediate_res.append({\"epoch\" : epoch,\n",
    "                                  \"train loss\" : train_loss,\n",
    "                                  \"valid_loss\" : valid_loss,\n",
    "                                  \"train_correct\" : train_correct,\n",
    "                                  \"valid_correct\" : correct/(total),\n",
    "                                  \"time\" : str_time})\n",
    "        print('Epoch: {} \\tTraining Loss: {:.6f} \\tValidation Loss: {:.6f}\\ttrain correct :{:.3f}\\tvalid correct :{:.3f}\\ttime {}'.format(\n",
    "            epoch, \n",
    "            train_loss,\n",
    "            valid_loss,\n",
    "            train_correct,\n",
    "            correct/(total),\n",
    "            str_time\n",
    "            ))\n",
    "        \n",
    "        ## TODO: save the model if validation loss has decreased\n",
    "        if valid_loss < valid_loss_min:\n",
    "            valid_loss_min = valid_loss\n",
    "            torch.save(model.state_dict(), \"model_scratch.pt\")\n",
    "        # save last model for restart\n",
    "        last_save = False\n",
    "        if last_save:\n",
    "            torch.save({\n",
    "                'epoch': epoch,\n",
    "                'model_state_dict': model.state_dict(),\n",
    "                'optimizer_state_dict': optimizer.state_dict(),\n",
    "                'loss': loss\n",
    "                }, \"current_model_scratch.pt\")\n",
    "\n",
    "            \n",
    "    # return trained model\n",
    "    return model\n",
    "\n"
   ]
  },
  {
   "cell_type": "code",
   "execution_count": null,
   "metadata": {
    "colab": {
     "base_uri": "https://localhost:8080/"
    },
    "id": "ZFEGK0be3VJN",
    "outputId": "22cd9b7a-0c0e-4246-d585-607fafab03e9",
    "tags": [
     "keep_output"
    ]
   },
   "outputs": [],
   "source": [
    "# train the model\n",
    "n_epochs = 100\n",
    "n_epochs = 30\n",
    "\n",
    "# instantiate the CNN\n",
    "#model_scratch = Net()\n",
    "\n",
    "# move tensors to GPU if CUDA is available\n",
    "#if use_cuda:\n",
    "#    model_scratch.cuda()\n",
    "\n",
    "    \n",
    "### TODO: select loss function\n",
    "criterion_scratch = nn.CrossEntropyLoss()\n",
    "\n",
    "### TODO: select optimizer\n",
    "optimizer_scratch = optim.Adam(model_scratch.parameters(), lr = 0.001)\n",
    "\n",
    "l_intermediate_scratch = []\n",
    "try :\n",
    "    model_scratch = train(n_epochs, loaders_scratch, model_scratch, optimizer_scratch, \n",
    "                      criterion_scratch, use_cuda, 'model_scratch.pt', l_intermediate_scratch)\n",
    "finally :\n",
    "    json.dump(l_intermediate_scratch, open(\"scratch.log\"))\n",
    "#Audio(\"/usr/share/sounds/ubuntu/ringtones/Alarm synth.ogg\", autoplay=True)"
   ]
  },
  {
   "cell_type": "code",
   "execution_count": null,
   "metadata": {
    "id": "Zi1kndzh3VJc"
   },
   "outputs": [],
   "source": [
    "#torch.cuda.empty_cache()"
   ]
  },
  {
   "cell_type": "code",
   "execution_count": null,
   "metadata": {
    "id": "afJr37V83VJi"
   },
   "outputs": [],
   "source": [
    "torch.save(model_scratch.state_dict(), \"last_model_scratch.pt\")"
   ]
  },
  {
   "cell_type": "code",
   "execution_count": null,
   "metadata": {
    "colab": {
     "base_uri": "https://localhost:8080/"
    },
    "id": "KXLGzCaD6e67",
    "outputId": "a29bb4da-ffdb-4787-c73f-254b44ecf24f"
   },
   "outputs": [],
   "source": [
    "# load the model that got the best validation accuracy\n",
    "model_scratch.load_state_dict(torch.load('model_scratch.pt'))"
   ]
  },
  {
   "cell_type": "markdown",
   "metadata": {
    "id": "8T_DVmSG3VJm"
   },
   "source": [
    "### (IMPLEMENTATION) Test the Model\n",
    "\n",
    "Try out your model on the test dataset of dog images.  Use the code cell below to calculate and print the test loss and accuracy.  Ensure that your test accuracy is greater than 10%."
   ]
  },
  {
   "cell_type": "code",
   "execution_count": null,
   "metadata": {
    "colab": {
     "base_uri": "https://localhost:8080/"
    },
    "id": "LEzAt0RE3VJn",
    "outputId": "c9f80fbb-9e43-471b-9f95-a1cd89b910ee"
   },
   "outputs": [],
   "source": [
    "def test(loaders, model, criterion, use_cuda):\n",
    "\n",
    "    # monitor test loss and accuracy\n",
    "    test_loss = 0.\n",
    "    correct = 0.\n",
    "    total = 0.\n",
    "\n",
    "    model.eval()\n",
    "    for batch_idx, (data, target) in enumerate(loaders['test']):\n",
    "        # move to GPU\n",
    "        if use_cuda:\n",
    "            data, target = data.cuda(), target.cuda()\n",
    "        # forward pass: compute predicted outputs by passing inputs to the model\n",
    "        output = model(data)\n",
    "        # calculate the loss\n",
    "        loss = criterion(output, target)\n",
    "        # update average test loss \n",
    "        test_loss = test_loss + ((1 / (batch_idx + 1)) * (loss.data - test_loss))\n",
    "        # convert output probabilities to predicted class\n",
    "        pred = output.data.max(1, keepdim=True)[1]\n",
    "        #print(pred)\n",
    "        # compare predictions to true label\n",
    "        correct += np.sum(np.squeeze(pred.eq(target.data.view_as(pred))).cpu().numpy())\n",
    "        total += data.size(0)\n",
    "            \n",
    "    print('Test Loss: {:.6f}\\n'.format(test_loss))\n",
    "\n",
    "    print('\\nTest Accuracy: %2d%% (%2d/%2d)' % (\n",
    "        100. * correct / total, correct, total))\n",
    "\n",
    "# call test function    \n",
    "test(loaders_scratch, model_scratch, criterion_scratch, use_cuda)"
   ]
  },
  {
   "cell_type": "markdown",
   "metadata": {
    "id": "a0MwIayX3VJs"
   },
   "source": [
    "---\n",
    "<a id='step4'></a>\n",
    "## Step 4: Create a CNN to Classify Dog Breeds (using Transfer Learning)\n",
    "\n",
    "You will now use transfer learning to create a CNN that can identify dog breed from images.  Your CNN must attain at least 60% accuracy on the test set.\n",
    "\n",
    "### (IMPLEMENTATION) Specify Data Loaders for the Dog Dataset\n",
    "\n",
    "Use the code cell below to write three separate [data loaders](http://pytorch.org/docs/master/data.html#torch.utils.data.DataLoader) for the training, validation, and test datasets of dog images (located at `dogImages/train`, `dogImages/valid`, and `dogImages/test`, respectively). \n",
    "\n",
    "If you like, **you are welcome to use the same data loaders from the previous step**, when you created a CNN from scratch."
   ]
  },
  {
   "cell_type": "code",
   "execution_count": null,
   "metadata": {
    "colab": {
     "base_uri": "https://localhost:8080/"
    },
    "id": "Xfa3VrSU3VJt",
    "outputId": "fbeb98ea-13e2-457f-af90-952e430d0107"
   },
   "outputs": [],
   "source": [
    "import torch\n",
    "from torchvision import transforms\n",
    "from torchvision import datasets\n",
    "import numpy as np\n",
    "from PIL import Image\n",
    "from PIL import ImageFile\n",
    "ImageFile.LOAD_TRUNCATED_IMAGES = True\n",
    "import time\n",
    "\n",
    "# check if CUDA is available\n",
    "use_cuda = torch.cuda.is_available()\n",
    "\n",
    "def tensor_to_cuda(x):\n",
    "    if use_cuda :\n",
    "        x = x.cuda()\n",
    "    return x\n",
    "## TODO: Specify data loaders\n",
    "#random_generator=torch.Generator().manual_seed(42)\n",
    "num_workers = 0\n",
    "img_transform = transforms.Compose( [\n",
    "        transforms.RandomRotation(10),                               \n",
    "        transforms.CenterCrop((224,224)),\n",
    "        transforms.RandomHorizontalFlip(),\n",
    "        transforms.ToTensor(),\n",
    "        transforms.Normalize(mean=[0.485, 0.456, 0.406],\n",
    "                             std=[0.229, 0.224, 0.225])\n",
    "                    ])\n",
    "test_transform = transforms.Compose( [\n",
    "        #transforms.Resize((224,224)),\n",
    "        transforms.CenterCrop((224,224)),\n",
    "        transforms.ToTensor(),\n",
    "        transforms.Normalize(mean=[0.485, 0.456, 0.406],\n",
    "                             std=[0.229, 0.224, 0.225])\n",
    "                    ])\n",
    "\n",
    "datapath = check_data()\n",
    "train_set = datasets.ImageFolder(os.path.join(datapath,\"dog_images/train/\"),transform= img_transform)\n",
    "valid_set = datasets.ImageFolder(os.path.join(datapath,\"dog_images/valid/\"), transform = test_transform)\n",
    "test_set = datasets.ImageFolder(os.path.join(datapath,\"dog_images/test\"), transform = test_transform)\n",
    "\n",
    "loaders_transfer = {}\n",
    "loaders_transfer[\"train\"] = torch.utils.data.DataLoader(train_set, batch_size= 32, \n",
    "                                          shuffle = True, num_workers = num_workers)\n",
    "loaders_transfer[\"valid\"] = torch.utils.data.DataLoader(valid_set, batch_size= 32, \n",
    "                                           shuffle = False)\n",
    "loaders_transfer[\"test\"] = torch.utils.data.DataLoader(test_set, batch_size= 32, \n",
    "                                           shuffle = False)\n",
    "\n",
    "\n"
   ]
  },
  {
   "cell_type": "markdown",
   "metadata": {
    "id": "nTJX6L1A3VJx"
   },
   "source": [
    "### (IMPLEMENTATION) Model Architecture\n",
    "\n",
    "Use transfer learning to create a CNN to classify dog breed.  Use the code cell below, and save your initialized model as the variable `model_transfer`."
   ]
  },
  {
   "cell_type": "code",
   "execution_count": null,
   "metadata": {
    "id": "WkFZS7QF3VJy"
   },
   "outputs": [],
   "source": [
    "import torchvision.models as models\n",
    "import torch.nn as nn\n",
    "\n",
    "## TODO: Specify model architecture \n",
    "if not 'VGG16' in locals() and not 'VGG16' in globals():\n",
    "  VGG16 = models.vgg16(pretrained=True)\n",
    "model_transfer = VGG16\n",
    "# do not retrain feature parameters\n",
    "for param in model_transfer.features.parameters() :\n",
    "  param.require_grad = False\n",
    "# replace last VGG layer with a fully connected layer with number of outputs the number of dog breeds\n",
    "in_features = model_transfer.classifier[-1].in_features\n",
    "n_dog_breeds = 133\n",
    "last_layer = nn.Linear(in_features=in_features, out_features=n_dog_breeds)\n",
    "model_transfer.classifier[-1] = last_layer\n",
    "if use_cuda:\n",
    "    model_transfer = model_transfer.cuda()"
   ]
  },
  {
   "cell_type": "markdown",
   "metadata": {
    "id": "5tanPnKg3VKN"
   },
   "source": [
    "__Question 5:__ Outline the steps you took to get to your final CNN architecture and your reasoning at each step.  Describe why you think the architecture is suitable for the current problem."
   ]
  },
  {
   "cell_type": "markdown",
   "metadata": {
    "id": "mztt4QWI3VKN"
   },
   "source": [
    "__Answer:__ \n"
   ]
  },
  {
   "cell_type": "markdown",
   "metadata": {
    "id": "jNMW6CL23VKP"
   },
   "source": [
    "### (IMPLEMENTATION) Specify Loss Function and Optimizer\n",
    "\n",
    "Use the next code cell to specify a [loss function](http://pytorch.org/docs/master/nn.html#loss-functions) and [optimizer](http://pytorch.org/docs/master/optim.html).  Save the chosen loss function as `criterion_transfer`, and the optimizer as `optimizer_transfer` below."
   ]
  },
  {
   "cell_type": "code",
   "execution_count": null,
   "metadata": {
    "id": "tYd_NVA73VKP"
   },
   "outputs": [],
   "source": [
    "import torch.optim as optim\n",
    "criterion_transfer = nn.CrossEntropyLoss()\n",
    "optimizer_transfer = optim.Adam(params = model_transfer.parameters(),lr = 0.01)"
   ]
  },
  {
   "cell_type": "markdown",
   "metadata": {
    "id": "yiPaH-R93VKV"
   },
   "source": [
    "### (IMPLEMENTATION) Train and Validate the Model\n",
    "\n",
    "Train and validate your model in the code cell below.  [Save the final model parameters](http://pytorch.org/docs/master/notes/serialization.html) at filepath `'model_transfer.pt'`."
   ]
  },
  {
   "cell_type": "code",
   "execution_count": null,
   "metadata": {
    "colab": {
     "base_uri": "https://localhost:8080/",
     "height": 524
    },
    "id": "Wlf9QUM63VKW",
    "outputId": "c632a06a-769d-4e4e-a117-186b62f46fcb"
   },
   "outputs": [],
   "source": [
    "# train the model\n",
    "n_epochs = 20\n",
    "model_transfer = train(n_epochs, loaders_transfer, model_transfer, optimizer_transfer, criterion_transfer, use_cuda, 'model_transfer.pt')\n",
    "\n",
    "# load the model that got the best validation accuracy (uncomment the line below)\n",
    "#model_transfer.load_state_dict(torch.load('model_transfer.pt'))"
   ]
  },
  {
   "cell_type": "markdown",
   "metadata": {
    "id": "9D6HoHZz3VKd"
   },
   "source": [
    "### (IMPLEMENTATION) Test the Model\n",
    "\n",
    "Try out your model on the test dataset of dog images. Use the code cell below to calculate and print the test loss and accuracy.  Ensure that your test accuracy is greater than 60%."
   ]
  },
  {
   "cell_type": "code",
   "execution_count": null,
   "metadata": {
    "id": "Cw9vpCSL3VKe"
   },
   "outputs": [],
   "source": [
    "test(loaders_transfer, model_transfer, criterion_transfer, use_cuda)"
   ]
  },
  {
   "cell_type": "markdown",
   "metadata": {
    "id": "ffvAZOJB3VKj"
   },
   "source": [
    "### (IMPLEMENTATION) Predict Dog Breed with the Model\n",
    "\n",
    "Write a function that takes an image path as input and returns the dog breed (`Affenpinscher`, `Afghan hound`, etc) that is predicted by your model.  "
   ]
  },
  {
   "cell_type": "code",
   "execution_count": null,
   "metadata": {
    "id": "6EHbY-V93VKl"
   },
   "outputs": [],
   "source": [
    "### TODO: Write a function that takes a path to an image as input\n",
    "### and returns the dog breed that is predicted by the model.\n",
    "\n",
    "# list of class names by index, i.e. a name can be accessed like class_names[0]\n",
    "class_names = [item[4:].replace(\"_\", \" \") for item in data_transfer['train'].classes]\n",
    "\n",
    "def predict_breed_transfer(img_path):\n",
    "    # load the image and return the predicted breed\n",
    "    return None"
   ]
  },
  {
   "cell_type": "markdown",
   "metadata": {
    "id": "SeVbzTIM3VKq"
   },
   "source": [
    "---\n",
    "<a id='step5'></a>\n",
    "## Step 5: Write your Algorithm\n",
    "\n",
    "Write an algorithm that accepts a file path to an image and first determines whether the image contains a human, dog, or neither.  Then,\n",
    "- if a __dog__ is detected in the image, return the predicted breed.\n",
    "- if a __human__ is detected in the image, return the resembling dog breed.\n",
    "- if __neither__ is detected in the image, provide output that indicates an error.\n",
    "\n",
    "You are welcome to write your own functions for detecting humans and dogs in images, but feel free to use the `face_detector` and `human_detector` functions developed above.  You are __required__ to use your CNN from Step 4 to predict dog breed.  \n",
    "\n",
    "Some sample output for our algorithm is provided below, but feel free to design your own user experience!\n",
    "\n",
    "![Sample Human Output](https://github.com/severine-baudry/P2_dog_classification/blob/VALID_9P/images/sample_human_output.png?raw=1)\n",
    "\n",
    "\n",
    "### (IMPLEMENTATION) Write your Algorithm"
   ]
  },
  {
   "cell_type": "code",
   "execution_count": null,
   "metadata": {
    "id": "X374Jm3G3VKq"
   },
   "outputs": [],
   "source": [
    "### TODO: Write your algorithm.\n",
    "### Feel free to use as many code cells as needed.\n",
    "\n",
    "def run_app(img_path):\n",
    "    ## handle cases for a human face, dog, and neither\n",
    "    \n"
   ]
  },
  {
   "cell_type": "markdown",
   "metadata": {
    "id": "JoaLne3s3VKw"
   },
   "source": [
    "---\n",
    "<a id='step6'></a>\n",
    "## Step 6: Test Your Algorithm\n",
    "\n",
    "In this section, you will take your new algorithm for a spin!  What kind of dog does the algorithm think that _you_ look like?  If you have a dog, does it predict your dog's breed accurately?  If you have a cat, does it mistakenly think that your cat is a dog?\n",
    "\n",
    "### (IMPLEMENTATION) Test Your Algorithm on Sample Images!\n",
    "\n",
    "Test your algorithm at least six images on your computer.  Feel free to use any images you like.  Use at least two human and two dog images.  \n",
    "\n",
    "__Question 6:__ Is the output better than you expected :) ?  Or worse :( ?  Provide at least three possible points of improvement for your algorithm."
   ]
  },
  {
   "cell_type": "markdown",
   "metadata": {
    "id": "Rr6BUJhd3VKz"
   },
   "source": [
    "__Answer:__ (Three possible points for improvement)"
   ]
  },
  {
   "cell_type": "code",
   "execution_count": null,
   "metadata": {
    "id": "LCuvSu0L3VK1"
   },
   "outputs": [],
   "source": [
    "## TODO: Execute your algorithm from Step 6 on\n",
    "## at least 6 images on your computer.\n",
    "## Feel free to use as many code cells as needed.\n",
    "\n",
    "## suggested code, below\n",
    "for file in np.hstack((human_files[:3], dog_files[:3])):\n",
    "    run_app(file)"
   ]
  },
  {
   "cell_type": "code",
   "execution_count": null,
   "metadata": {
    "id": "TccNJgfpAl1f"
   },
   "outputs": [],
   "source": [
    "a=1"
   ]
  },
  {
   "cell_type": "code",
   "execution_count": null,
   "metadata": {
    "id": "JMqZVh1nAqU6"
   },
   "outputs": [],
   "source": []
  }
 ],
 "metadata": {
  "accelerator": "GPU",
  "anaconda-cloud": {},
  "colab": {
   "name": "dog_app.ipynb",
   "provenance": [],
   "toc_visible": true
  },
  "kernelspec": {
   "display_name": "Python 3",
   "language": "python",
   "name": "python3"
  },
  "language_info": {
   "codemirror_mode": {
    "name": "ipython",
    "version": 3
   },
   "file_extension": ".py",
   "mimetype": "text/x-python",
   "name": "python",
   "nbconvert_exporter": "python",
   "pygments_lexer": "ipython3",
   "version": "3.7.4"
  },
  "toc": {
   "base_numbering": 1,
   "nav_menu": {},
   "number_sections": true,
   "sideBar": true,
   "skip_h1_title": false,
   "title_cell": "Table of Contents",
   "title_sidebar": "Contents",
   "toc_cell": false,
   "toc_position": {},
   "toc_section_display": true,
   "toc_window_display": false
  },
  "varInspector": {
   "cols": {
    "lenName": 16,
    "lenType": 16,
    "lenVar": 40
   },
   "kernels_config": {
    "python": {
     "delete_cmd_postfix": "",
     "delete_cmd_prefix": "del ",
     "library": "var_list.py",
     "varRefreshCmd": "print(var_dic_list())"
    },
    "r": {
     "delete_cmd_postfix": ") ",
     "delete_cmd_prefix": "rm(",
     "library": "var_list.r",
     "varRefreshCmd": "cat(var_dic_list()) "
    }
   },
   "types_to_exclude": [
    "module",
    "function",
    "builtin_function_or_method",
    "instance",
    "_Feature"
   ],
   "window_display": false
  },
  "widgets": {
   "application/vnd.jupyter.widget-state+json": {
    "2cc8361354e64a7cac5001385eb7d08f": {
     "model_module": "@jupyter-widgets/controls",
     "model_name": "DescriptionStyleModel",
     "state": {
      "_model_module": "@jupyter-widgets/controls",
      "_model_module_version": "1.5.0",
      "_model_name": "DescriptionStyleModel",
      "_view_count": null,
      "_view_module": "@jupyter-widgets/base",
      "_view_module_version": "1.2.0",
      "_view_name": "StyleView",
      "description_width": ""
     }
    },
    "2f259fdaad3042a19e2cb5448d65ba2e": {
     "model_module": "@jupyter-widgets/controls",
     "model_name": "FloatProgressModel",
     "state": {
      "_dom_classes": [],
      "_model_module": "@jupyter-widgets/controls",
      "_model_module_version": "1.5.0",
      "_model_name": "FloatProgressModel",
      "_view_count": null,
      "_view_module": "@jupyter-widgets/controls",
      "_view_module_version": "1.5.0",
      "_view_name": "ProgressView",
      "bar_style": "success",
      "description": "100%",
      "description_tooltip": null,
      "layout": "IPY_MODEL_d01da54b8a614d77a23fe45347dd30f6",
      "max": 553433881,
      "min": 0,
      "orientation": "horizontal",
      "style": "IPY_MODEL_4416a6a253a14e78896e1a4079b8fe46",
      "value": 553433881
     }
    },
    "4416a6a253a14e78896e1a4079b8fe46": {
     "model_module": "@jupyter-widgets/controls",
     "model_name": "ProgressStyleModel",
     "state": {
      "_model_module": "@jupyter-widgets/controls",
      "_model_module_version": "1.5.0",
      "_model_name": "ProgressStyleModel",
      "_view_count": null,
      "_view_module": "@jupyter-widgets/base",
      "_view_module_version": "1.2.0",
      "_view_name": "StyleView",
      "bar_color": null,
      "description_width": "initial"
     }
    },
    "5a526605cf6c4f6f955d9a3467b4e3d4": {
     "model_module": "@jupyter-widgets/controls",
     "model_name": "HTMLModel",
     "state": {
      "_dom_classes": [],
      "_model_module": "@jupyter-widgets/controls",
      "_model_module_version": "1.5.0",
      "_model_name": "HTMLModel",
      "_view_count": null,
      "_view_module": "@jupyter-widgets/controls",
      "_view_module_version": "1.5.0",
      "_view_name": "HTMLView",
      "description": "",
      "description_tooltip": null,
      "layout": "IPY_MODEL_ac4bfaa5a2f443518709e9f8d4e3d130",
      "placeholder": "​",
      "style": "IPY_MODEL_2cc8361354e64a7cac5001385eb7d08f",
      "value": " 528M/528M [00:10&lt;00:00, 53.4MB/s]"
     }
    },
    "8c3077a6a7654d0da9b6c9054023adae": {
     "model_module": "@jupyter-widgets/base",
     "model_name": "LayoutModel",
     "state": {
      "_model_module": "@jupyter-widgets/base",
      "_model_module_version": "1.2.0",
      "_model_name": "LayoutModel",
      "_view_count": null,
      "_view_module": "@jupyter-widgets/base",
      "_view_module_version": "1.2.0",
      "_view_name": "LayoutView",
      "align_content": null,
      "align_items": null,
      "align_self": null,
      "border": null,
      "bottom": null,
      "display": null,
      "flex": null,
      "flex_flow": null,
      "grid_area": null,
      "grid_auto_columns": null,
      "grid_auto_flow": null,
      "grid_auto_rows": null,
      "grid_column": null,
      "grid_gap": null,
      "grid_row": null,
      "grid_template_areas": null,
      "grid_template_columns": null,
      "grid_template_rows": null,
      "height": null,
      "justify_content": null,
      "justify_items": null,
      "left": null,
      "margin": null,
      "max_height": null,
      "max_width": null,
      "min_height": null,
      "min_width": null,
      "object_fit": null,
      "object_position": null,
      "order": null,
      "overflow": null,
      "overflow_x": null,
      "overflow_y": null,
      "padding": null,
      "right": null,
      "top": null,
      "visibility": null,
      "width": null
     }
    },
    "ac4bfaa5a2f443518709e9f8d4e3d130": {
     "model_module": "@jupyter-widgets/base",
     "model_name": "LayoutModel",
     "state": {
      "_model_module": "@jupyter-widgets/base",
      "_model_module_version": "1.2.0",
      "_model_name": "LayoutModel",
      "_view_count": null,
      "_view_module": "@jupyter-widgets/base",
      "_view_module_version": "1.2.0",
      "_view_name": "LayoutView",
      "align_content": null,
      "align_items": null,
      "align_self": null,
      "border": null,
      "bottom": null,
      "display": null,
      "flex": null,
      "flex_flow": null,
      "grid_area": null,
      "grid_auto_columns": null,
      "grid_auto_flow": null,
      "grid_auto_rows": null,
      "grid_column": null,
      "grid_gap": null,
      "grid_row": null,
      "grid_template_areas": null,
      "grid_template_columns": null,
      "grid_template_rows": null,
      "height": null,
      "justify_content": null,
      "justify_items": null,
      "left": null,
      "margin": null,
      "max_height": null,
      "max_width": null,
      "min_height": null,
      "min_width": null,
      "object_fit": null,
      "object_position": null,
      "order": null,
      "overflow": null,
      "overflow_x": null,
      "overflow_y": null,
      "padding": null,
      "right": null,
      "top": null,
      "visibility": null,
      "width": null
     }
    },
    "d01da54b8a614d77a23fe45347dd30f6": {
     "model_module": "@jupyter-widgets/base",
     "model_name": "LayoutModel",
     "state": {
      "_model_module": "@jupyter-widgets/base",
      "_model_module_version": "1.2.0",
      "_model_name": "LayoutModel",
      "_view_count": null,
      "_view_module": "@jupyter-widgets/base",
      "_view_module_version": "1.2.0",
      "_view_name": "LayoutView",
      "align_content": null,
      "align_items": null,
      "align_self": null,
      "border": null,
      "bottom": null,
      "display": null,
      "flex": null,
      "flex_flow": null,
      "grid_area": null,
      "grid_auto_columns": null,
      "grid_auto_flow": null,
      "grid_auto_rows": null,
      "grid_column": null,
      "grid_gap": null,
      "grid_row": null,
      "grid_template_areas": null,
      "grid_template_columns": null,
      "grid_template_rows": null,
      "height": null,
      "justify_content": null,
      "justify_items": null,
      "left": null,
      "margin": null,
      "max_height": null,
      "max_width": null,
      "min_height": null,
      "min_width": null,
      "object_fit": null,
      "object_position": null,
      "order": null,
      "overflow": null,
      "overflow_x": null,
      "overflow_y": null,
      "padding": null,
      "right": null,
      "top": null,
      "visibility": null,
      "width": null
     }
    },
    "fe0b8cc1372b4ea8a476027381db2447": {
     "model_module": "@jupyter-widgets/controls",
     "model_name": "HBoxModel",
     "state": {
      "_dom_classes": [],
      "_model_module": "@jupyter-widgets/controls",
      "_model_module_version": "1.5.0",
      "_model_name": "HBoxModel",
      "_view_count": null,
      "_view_module": "@jupyter-widgets/controls",
      "_view_module_version": "1.5.0",
      "_view_name": "HBoxView",
      "box_style": "",
      "children": [
       "IPY_MODEL_2f259fdaad3042a19e2cb5448d65ba2e",
       "IPY_MODEL_5a526605cf6c4f6f955d9a3467b4e3d4"
      ],
      "layout": "IPY_MODEL_8c3077a6a7654d0da9b6c9054023adae"
     }
    }
   }
  }
 },
 "nbformat": 4,
 "nbformat_minor": 1
}
